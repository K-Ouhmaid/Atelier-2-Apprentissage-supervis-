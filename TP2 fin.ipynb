{
 "cells": [
  {
   "cell_type": "markdown",
   "metadata": {},
   "source": [
    "### BY : KHALID OUHMAID  ET AYOUB BOUBKER "
   ]
  },
  {
   "cell_type": "code",
   "execution_count": 1,
   "metadata": {},
   "outputs": [],
   "source": [
    "import numpy as np\n",
    "np.set_printoptions(threshold=10000,suppress=True)\n",
    "import pandas as pd\n",
    "import warnings\n",
    "import matplotlib.pyplot as plt\n",
    "warnings.filterwarnings('ignore')\n",
    "warnings.filterwarnings(\"ignore\", category=DeprecationWarning) \n",
    "\n"
   ]
  },
  {
   "cell_type": "markdown",
   "metadata": {},
   "source": [
    "### I. Apprentissage supervisé : Feature engineering et Classification"
   ]
  },
  {
   "cell_type": "markdown",
   "metadata": {},
   "source": [
    "#### 1. Chargement des données et préparation"
   ]
  },
  {
   "cell_type": "code",
   "execution_count": 2,
   "metadata": {},
   "outputs": [],
   "source": [
    "#loading data\n",
    "data = pd.read_csv('credit_scoring.csv', sep=';')"
   ]
  },
  {
   "cell_type": "code",
   "execution_count": 3,
   "metadata": {
    "scrolled": true
   },
   "outputs": [
    {
     "data": {
      "text/html": [
       "<div>\n",
       "<style scoped>\n",
       "    .dataframe tbody tr th:only-of-type {\n",
       "        vertical-align: middle;\n",
       "    }\n",
       "\n",
       "    .dataframe tbody tr th {\n",
       "        vertical-align: top;\n",
       "    }\n",
       "\n",
       "    .dataframe thead th {\n",
       "        text-align: right;\n",
       "    }\n",
       "</style>\n",
       "<table border=\"1\" class=\"dataframe\">\n",
       "  <thead>\n",
       "    <tr style=\"text-align: right;\">\n",
       "      <th></th>\n",
       "      <th>Seniority</th>\n",
       "      <th>Home</th>\n",
       "      <th>Time</th>\n",
       "      <th>Age</th>\n",
       "      <th>Marital</th>\n",
       "      <th>Records</th>\n",
       "      <th>Job</th>\n",
       "      <th>Expenses</th>\n",
       "      <th>Income</th>\n",
       "      <th>Assets</th>\n",
       "      <th>Debt</th>\n",
       "      <th>Amount</th>\n",
       "      <th>Price</th>\n",
       "      <th>Status</th>\n",
       "    </tr>\n",
       "  </thead>\n",
       "  <tbody>\n",
       "    <tr>\n",
       "      <th>0</th>\n",
       "      <td>9.0</td>\n",
       "      <td>1.0</td>\n",
       "      <td>60.0</td>\n",
       "      <td>30.0</td>\n",
       "      <td>0.0</td>\n",
       "      <td>1.0</td>\n",
       "      <td>1.0</td>\n",
       "      <td>73.0</td>\n",
       "      <td>129.0</td>\n",
       "      <td>0.0</td>\n",
       "      <td>0.0</td>\n",
       "      <td>800.0</td>\n",
       "      <td>846.0</td>\n",
       "      <td>1</td>\n",
       "    </tr>\n",
       "    <tr>\n",
       "      <th>1</th>\n",
       "      <td>17.0</td>\n",
       "      <td>1.0</td>\n",
       "      <td>60.0</td>\n",
       "      <td>58.0</td>\n",
       "      <td>1.0</td>\n",
       "      <td>1.0</td>\n",
       "      <td>0.0</td>\n",
       "      <td>48.0</td>\n",
       "      <td>131.0</td>\n",
       "      <td>0.0</td>\n",
       "      <td>0.0</td>\n",
       "      <td>1000.0</td>\n",
       "      <td>1658.0</td>\n",
       "      <td>1</td>\n",
       "    </tr>\n",
       "    <tr>\n",
       "      <th>2</th>\n",
       "      <td>10.0</td>\n",
       "      <td>0.0</td>\n",
       "      <td>36.0</td>\n",
       "      <td>46.0</td>\n",
       "      <td>0.0</td>\n",
       "      <td>2.0</td>\n",
       "      <td>1.0</td>\n",
       "      <td>90.0</td>\n",
       "      <td>200.0</td>\n",
       "      <td>3000.0</td>\n",
       "      <td>0.0</td>\n",
       "      <td>2000.0</td>\n",
       "      <td>2985.0</td>\n",
       "      <td>0</td>\n",
       "    </tr>\n",
       "    <tr>\n",
       "      <th>3</th>\n",
       "      <td>0.0</td>\n",
       "      <td>1.0</td>\n",
       "      <td>60.0</td>\n",
       "      <td>24.0</td>\n",
       "      <td>1.0</td>\n",
       "      <td>1.0</td>\n",
       "      <td>0.0</td>\n",
       "      <td>63.0</td>\n",
       "      <td>182.0</td>\n",
       "      <td>2500.0</td>\n",
       "      <td>0.0</td>\n",
       "      <td>900.0</td>\n",
       "      <td>1325.0</td>\n",
       "      <td>1</td>\n",
       "    </tr>\n",
       "    <tr>\n",
       "      <th>4</th>\n",
       "      <td>0.0</td>\n",
       "      <td>1.0</td>\n",
       "      <td>36.0</td>\n",
       "      <td>26.0</td>\n",
       "      <td>1.0</td>\n",
       "      <td>1.0</td>\n",
       "      <td>0.0</td>\n",
       "      <td>46.0</td>\n",
       "      <td>107.0</td>\n",
       "      <td>0.0</td>\n",
       "      <td>0.0</td>\n",
       "      <td>310.0</td>\n",
       "      <td>910.0</td>\n",
       "      <td>1</td>\n",
       "    </tr>\n",
       "  </tbody>\n",
       "</table>\n",
       "</div>"
      ],
      "text/plain": [
       "   Seniority  Home  Time   Age  Marital  Records  Job  Expenses  Income  \\\n",
       "0        9.0   1.0  60.0  30.0      0.0      1.0  1.0      73.0   129.0   \n",
       "1       17.0   1.0  60.0  58.0      1.0      1.0  0.0      48.0   131.0   \n",
       "2       10.0   0.0  36.0  46.0      0.0      2.0  1.0      90.0   200.0   \n",
       "3        0.0   1.0  60.0  24.0      1.0      1.0  0.0      63.0   182.0   \n",
       "4        0.0   1.0  36.0  26.0      1.0      1.0  0.0      46.0   107.0   \n",
       "\n",
       "   Assets  Debt  Amount   Price  Status  \n",
       "0     0.0   0.0   800.0   846.0       1  \n",
       "1     0.0   0.0  1000.0  1658.0       1  \n",
       "2  3000.0   0.0  2000.0  2985.0       0  \n",
       "3  2500.0   0.0   900.0  1325.0       1  \n",
       "4     0.0   0.0   310.0   910.0       1  "
      ]
     },
     "execution_count": 3,
     "metadata": {},
     "output_type": "execute_result"
    }
   ],
   "source": [
    "data.head(5)"
   ]
  },
  {
   "cell_type": "code",
   "execution_count": 4,
   "metadata": {},
   "outputs": [],
   "source": [
    "#Transforing data\n",
    "X = data.iloc[:, 0:13].values\n",
    "labels = data.iloc[:, 13].values\n"
   ]
  },
  {
   "cell_type": "code",
   "execution_count": 5,
   "metadata": {},
   "outputs": [
    {
     "name": "stdout",
     "output_type": "stream",
     "text": [
      "taille du sortie : (4375,)\n",
      "taille de données d'entrée : (4375, 13)\n"
     ]
    }
   ],
   "source": [
    "#Shape\n",
    "print(\"taille du sortie :\", labels.shape)\n",
    "print(\"taille de données d'entrée :\", X.shape)"
   ]
  },
  {
   "cell_type": "code",
   "execution_count": 6,
   "metadata": {
    "scrolled": true
   },
   "outputs": [
    {
     "name": "stdout",
     "output_type": "stream",
     "text": [
      "Total occurences of \"positive\" in array:  3159\n",
      "Total occurences of \"negative\" in array:  1216\n"
     ]
    },
    {
     "data": {
      "image/png": "[encoded data removed]",
      "text/plain": [
       "<Figure size 432x288 with 1 Axes>"
      ]
     },
     "metadata": {
      "needs_background": "light"
     },
     "output_type": "display_data"
    }
   ],
   "source": [
    "#hits\n",
    "num_pos = (labels == 1).sum()\n",
    "num_neg = (labels == 0).sum()\n",
    "print('Total occurences of \"positive\" in array: ', num_pos)\n",
    "print('Total occurences of \"negative\" in array: ', num_neg)\n",
    "hist = plt.hist(labels) \n",
    "plt.title(\"Histogram \")\n",
    "plt.show()"
   ]
  },
  {
   "cell_type": "markdown",
   "metadata": {},
   "source": [
    "#### 2. Apprentissage et évaluation de modèles :"
   ]
  },
  {
   "cell_type": "code",
   "execution_count": 7,
   "metadata": {},
   "outputs": [],
   "source": [
    "#Splitting data\n",
    "from sklearn.model_selection import train_test_split\n",
    "\n",
    "X_train, X_test, y_train, y_test = train_test_split(X, labels, test_size=0.50, random_state=1)"
   ]
  },
  {
   "cell_type": "markdown",
   "metadata": {},
   "source": [
    "#### We need to minimize the FALSE POSITIVE ( the ones that we predicted that will have a credit but they really don't deserve to have one)\n",
    "#### So the Presicion is our concern"
   ]
  },
  {
   "cell_type": "code",
   "execution_count": 8,
   "metadata": {},
   "outputs": [],
   "source": [
    "\n",
    "from sklearn.tree import DecisionTreeClassifier\n",
    "from sklearn.neighbors import KNeighborsClassifier\n",
    "from sklearn.neural_network import MLPClassifier\n",
    "\n",
    "\n",
    "from sklearn import metrics\n",
    "from sklearn.metrics import classification_report,confusion_matrix\n",
    "from sklearn.metrics import precision_score\n",
    "from sklearn.metrics import recall_score\n",
    "from sklearn.metrics import f1_score"
   ]
  },
  {
   "cell_type": "markdown",
   "metadata": {},
   "source": [
    "####  • Un arbre CART (random_state=1)"
   ]
  },
  {
   "cell_type": "code",
   "execution_count": 9,
   "metadata": {},
   "outputs": [
    {
     "name": "stdout",
     "output_type": "stream",
     "text": [
      "Accuracy: 0.7271480804387569\n",
      "Precision: 0.819\n",
      "Recall: 0.799\n"
     ]
    }
   ],
   "source": [
    "####-----------------         DecisionTree         ---------------####\n",
    "\n",
    "\n",
    "clf = DecisionTreeClassifier(random_state=1)\n",
    "clf.fit(X_train, y_train)\n",
    "y_pred_DT = clf.predict(X_test)\n",
    "\n",
    "Accuracy_DT_nan = metrics.accuracy_score(y_test, y_pred_DT)\n",
    "print(\"Accuracy:\",metrics.accuracy_score(y_test, y_pred_DT))\n",
    "\n",
    "# Calculate the confusion matrix\n",
    "conf_matrix_DT = confusion_matrix(y_true=y_test, y_pred=y_pred_DT)\n",
    "\n",
    "#Precision & Recall\n",
    "print('Precision: %.3f' % precision_score(y_test, y_pred_DT))\n",
    "print('Recall: %.3f' % recall_score(y_test, y_pred_DT))\n",
    "\n",
    "Accuracy_DT_nan = metrics.accuracy_score(y_test, y_pred_DT)\n",
    "APrecision_DT_nan = precision_score(y_test, y_pred_DT)"
   ]
  },
  {
   "cell_type": "markdown",
   "metadata": {},
   "source": [
    "#### •  k-plus-proches-voisins avec k=5"
   ]
  },
  {
   "cell_type": "code",
   "execution_count": 10,
   "metadata": {},
   "outputs": [
    {
     "name": "stdout",
     "output_type": "stream",
     "text": [
      "Accuracy: 0.7248628884826326\n",
      "Precision: 0.771\n",
      "Recall: 0.882\n"
     ]
    }
   ],
   "source": [
    "####-----------------         KNN         ---------------####\n",
    "\n",
    "\n",
    "\n",
    "knn_model = KNeighborsClassifier(n_neighbors=5)\n",
    "knn_model.fit(X_train, y_train)\n",
    "y_pred_knn = knn_model.predict(X_test)\n",
    "\n",
    "#print(\"Accuracy:\",knn_model.score(X_test, y_test))\n",
    "print(\"Accuracy:\",metrics.accuracy_score(y_test, y_pred_knn))\n",
    "\n",
    "# Calculate the confusion matrix\n",
    "conf_matrix_KNN = confusion_matrix(y_true=y_test, y_pred=y_pred_knn)\n",
    "\n",
    "#Precision & Recall\n",
    "print('Precision: %.3f' % precision_score(y_test, y_pred_knn))\n",
    "print('Recall: %.3f' % recall_score(y_test, y_pred_knn))\n",
    "\n",
    "Accuracy_KNN_nan = metrics.accuracy_score(y_test, y_pred_knn)\n",
    "APrecision_KNN_nan = precision_score(y_test, y_pred_knn)"
   ]
  },
  {
   "cell_type": "markdown",
   "metadata": {},
   "source": [
    "#### • MultilayerPerceptron à deux couches de tailles respectives 40 et 20 et random_state=1"
   ]
  },
  {
   "cell_type": "code",
   "execution_count": 1,
   "metadata": {
    "scrolled": false
   },
   "outputs": [
    {
     "ename": "NameError",
     "evalue": "name 'MLPClassifier' is not defined",
     "output_type": "error",
     "traceback": [
      "\u001b[1;31m---------------------------------------------------------------------------\u001b[0m",
      "\u001b[1;31mNameError\u001b[0m                                 Traceback (most recent call last)",
      "\u001b[1;32m<ipython-input-1-518ca42562fd>\u001b[0m in \u001b[0;36m<module>\u001b[1;34m\u001b[0m\n\u001b[0;32m      1\u001b[0m \u001b[1;31m####-----------------         MLP         ---------------####\u001b[0m\u001b[1;33m\u001b[0m\u001b[1;33m\u001b[0m\u001b[1;33m\u001b[0m\u001b[0m\n\u001b[0;32m      2\u001b[0m \u001b[1;33m\u001b[0m\u001b[0m\n\u001b[1;32m----> 3\u001b[1;33m \u001b[0mmlp\u001b[0m \u001b[1;33m=\u001b[0m \u001b[0mMLPClassifier\u001b[0m\u001b[1;33m(\u001b[0m\u001b[0mhidden_layer_sizes\u001b[0m\u001b[1;33m=\u001b[0m\u001b[1;33m(\u001b[0m\u001b[1;36m40\u001b[0m\u001b[1;33m,\u001b[0m \u001b[1;36m20\u001b[0m\u001b[1;33m)\u001b[0m\u001b[1;33m,\u001b[0m\u001b[0mrandom_state\u001b[0m\u001b[1;33m=\u001b[0m\u001b[1;36m1\u001b[0m\u001b[1;33m)\u001b[0m\u001b[1;33m\u001b[0m\u001b[1;33m\u001b[0m\u001b[0m\n\u001b[0m\u001b[0;32m      4\u001b[0m \u001b[0mmlp\u001b[0m\u001b[1;33m.\u001b[0m\u001b[0mfit\u001b[0m\u001b[1;33m(\u001b[0m\u001b[0mX_train\u001b[0m\u001b[1;33m,\u001b[0m\u001b[0my_train\u001b[0m\u001b[1;33m)\u001b[0m\u001b[1;33m\u001b[0m\u001b[1;33m\u001b[0m\u001b[0m\n\u001b[0;32m      5\u001b[0m \u001b[0my_pred_mlp\u001b[0m \u001b[1;33m=\u001b[0m \u001b[0mmlp\u001b[0m\u001b[1;33m.\u001b[0m\u001b[0mpredict\u001b[0m\u001b[1;33m(\u001b[0m\u001b[0mX_test\u001b[0m\u001b[1;33m)\u001b[0m\u001b[1;33m\u001b[0m\u001b[1;33m\u001b[0m\u001b[0m\n",
      "\u001b[1;31mNameError\u001b[0m: name 'MLPClassifier' is not defined"
     ]
    }
   ],
   "source": [
    "####-----------------         MLP         ---------------####\n",
    "\n",
    "mlp = MLPClassifier(hidden_layer_sizes=(40, 20),random_state=1)\n",
    "mlp.fit(X_train,y_train)\n",
    "y_pred_mlp = mlp.predict(X_test)\n",
    "\n",
    "\n",
    "print(\"Accuracy:\",metrics.accuracy_score(y_test, y_pred_mlp))\n",
    "\n",
    "# Calculate the confusion matrix\n",
    "conf_matrix_MLP = confusion_matrix(y_true=y_test, y_pred=y_pred_mlp)\n",
    "\n",
    "#Precision & Recall\n",
    "print('Precision: %.3f' % precision_score(y_test, y_pred_mlp))\n",
    "print('Recall: %.3f' % recall_score(y_test, y_pred_mlp))\n",
    "\n",
    "\n",
    "Accuracy_MLPC_nan = metrics.accuracy_score(y_test, y_pred_mlp)\n",
    "APrecision_MLPC_nan = precision_score(y_test, y_pred_mlp)"
   ]
  },
  {
   "cell_type": "markdown",
   "metadata": {},
   "source": [
    "#### 3. Normalisation des variables continues "
   ]
  },
  {
   "cell_type": "markdown",
   "metadata": {},
   "source": [
    "#### StandardScaler "
   ]
  },
  {
   "cell_type": "code",
   "execution_count": 2,
   "metadata": {},
   "outputs": [],
   "source": [
    "from sklearn.preprocessing import StandardScaler"
   ]
  },
  {
   "cell_type": "code",
   "execution_count": 3,
   "metadata": {},
   "outputs": [
    {
     "ename": "NameError",
     "evalue": "name 'X_train' is not defined",
     "output_type": "error",
     "traceback": [
      "\u001b[1;31m---------------------------------------------------------------------------\u001b[0m",
      "\u001b[1;31mNameError\u001b[0m                                 Traceback (most recent call last)",
      "\u001b[1;32m<ipython-input-3-e55552d37ead>\u001b[0m in \u001b[0;36m<module>\u001b[1;34m\u001b[0m\n\u001b[0;32m      1\u001b[0m \u001b[0mscaler\u001b[0m \u001b[1;33m=\u001b[0m \u001b[0mStandardScaler\u001b[0m\u001b[1;33m(\u001b[0m\u001b[1;33m)\u001b[0m\u001b[1;33m\u001b[0m\u001b[1;33m\u001b[0m\u001b[0m\n\u001b[1;32m----> 2\u001b[1;33m \u001b[0mscaler\u001b[0m\u001b[1;33m.\u001b[0m\u001b[0mfit\u001b[0m\u001b[1;33m(\u001b[0m\u001b[0mX_train\u001b[0m\u001b[1;33m)\u001b[0m\u001b[1;33m\u001b[0m\u001b[1;33m\u001b[0m\u001b[0m\n\u001b[0m\u001b[0;32m      3\u001b[0m \u001b[0mX_scaled_train\u001b[0m \u001b[1;33m=\u001b[0m \u001b[0mscaler\u001b[0m\u001b[1;33m.\u001b[0m\u001b[0mtransform\u001b[0m\u001b[1;33m(\u001b[0m\u001b[0mX_train\u001b[0m\u001b[1;33m)\u001b[0m\u001b[1;33m\u001b[0m\u001b[1;33m\u001b[0m\u001b[0m\n",
      "\u001b[1;31mNameError\u001b[0m: name 'X_train' is not defined"
     ]
    }
   ],
   "source": [
    "\n",
    "scaler = StandardScaler()\n",
    "scaler.fit(X_train)\n",
    "X_scaled_train = scaler.transform(X_train)"
   ]
  },
  {
   "cell_type": "code",
   "execution_count": null,
   "metadata": {},
   "outputs": [],
   "source": [
    "X_scaled_test = scaler.transform(X_test)\n",
    "\n",
    "X_scaled_test"
   ]
  },
  {
   "cell_type": "code",
   "execution_count": 15,
   "metadata": {},
   "outputs": [],
   "source": [
    "####  • Un arbre CART (random_state=1)"
   ]
  },
  {
   "cell_type": "code",
   "execution_count": 16,
   "metadata": {},
   "outputs": [
    {
     "name": "stdout",
     "output_type": "stream",
     "text": [
      "Accuracy: 0.7271480804387569\n",
      "Precision: 0.818\n",
      "Recall: 0.801\n"
     ]
    }
   ],
   "source": [
    "####-----------------         DecisionTree         ---------------####\n",
    "\n",
    "clf = DecisionTreeClassifier(random_state=1)\n",
    "clf.fit(X_scaled_train, y_train)\n",
    "y__scaled_SD_pred_DT = clf.predict(X_scaled_test)\n",
    "\n",
    "print(\"Accuracy:\",metrics.accuracy_score(y_test, y__scaled_SD_pred_DT))\n",
    "\n",
    "# Calculate the confusion matrix\n",
    "conf_matrix_DT_scaled = confusion_matrix(y_true=y_test, y_pred=y__scaled_SD_pred_DT)\n",
    "\n",
    "#Precision & Recall\n",
    "print('Precision: %.3f' % precision_score(y_test, y__scaled_SD_pred_DT))\n",
    "print('Recall: %.3f' % recall_score(y_test, y__scaled_SD_pred_DT))\n",
    "\n",
    "Accuracy_DT_SD = metrics.accuracy_score(y_test, y__scaled_SD_pred_DT)\n",
    "APrecision_DT_SD = precision_score(y_test, y__scaled_SD_pred_DT)"
   ]
  },
  {
   "cell_type": "markdown",
   "metadata": {},
   "source": [
    "#### •  k-plus-proches-voisins avec k=5"
   ]
  },
  {
   "cell_type": "code",
   "execution_count": 17,
   "metadata": {},
   "outputs": [
    {
     "name": "stdout",
     "output_type": "stream",
     "text": [
      "Accuracy: 0.7527422303473492\n",
      "Precision: 0.811\n",
      "Recall: 0.859\n"
     ]
    }
   ],
   "source": [
    "####-----------------         KNN         ---------------####\n",
    "knn_model = KNeighborsClassifier(n_neighbors=5)\n",
    "knn_model.fit(X_scaled_train, y_train)\n",
    "y_scaled_pred_knn = knn_model.predict(X_scaled_test)\n",
    "\n",
    "#print(\"Accuracy:\",knn_model.score(X_test, y_test))\n",
    "print(\"Accuracy:\",metrics.accuracy_score(y_test, y_scaled_pred_knn))\n",
    "\n",
    "# Calculate the confusion matrix\n",
    "conf_matrix_KNN = confusion_matrix(y_true=y_test, y_pred=y_scaled_pred_knn)\n",
    "\n",
    "#Precision & Recall\n",
    "print('Precision: %.3f' % precision_score(y_test, y_scaled_pred_knn))\n",
    "print('Recall: %.3f' % recall_score(y_test, y_scaled_pred_knn))\n",
    "\n",
    "Accuracy_KNN_SD = metrics.accuracy_score(y_test, y_scaled_pred_knn)\n",
    "APrecision_KNN_SD = precision_score(y_test, y_scaled_pred_knn)"
   ]
  },
  {
   "cell_type": "markdown",
   "metadata": {},
   "source": [
    "#### • MultilayerPerceptron à deux couches de tailles respectives 40 et 20 et random_state=1"
   ]
  },
  {
   "cell_type": "code",
   "execution_count": 18,
   "metadata": {},
   "outputs": [
    {
     "name": "stdout",
     "output_type": "stream",
     "text": [
      "Accuracy: 0.776508226691042\n",
      "Precision: 0.838\n",
      "Recall: 0.857\n"
     ]
    }
   ],
   "source": [
    "####-----------------         MLP         ---------------####\n",
    "mlp = MLPClassifier(hidden_layer_sizes=(40, 20),random_state=1)\n",
    "mlp.fit(X_scaled_train,y_train)\n",
    "y__scaled_pred_mlp = mlp.predict(X_scaled_test)\n",
    "\n",
    "\n",
    "print(\"Accuracy:\",metrics.accuracy_score(y_test, y__scaled_pred_mlp))\n",
    "\n",
    "# Calculate the confusion matrix\n",
    "conf_matrix_MLP = confusion_matrix(y_true=y_test, y_pred=y__scaled_pred_mlp)\n",
    "\n",
    "#Precision & Recall\n",
    "print('Precision: %.3f' % precision_score(y_test, y__scaled_pred_mlp))\n",
    "print('Recall: %.3f' % recall_score(y_test, y__scaled_pred_mlp))\n",
    "\n",
    "Accuracy_MLPC_SD = metrics.accuracy_score(y_test, y__scaled_pred_mlp)\n",
    "APrecision_MLPC_SD = precision_score(y_test, y__scaled_pred_mlp)"
   ]
  },
  {
   "cell_type": "markdown",
   "metadata": {},
   "source": [
    "#### MinMax"
   ]
  },
  {
   "cell_type": "code",
   "execution_count": 19,
   "metadata": {},
   "outputs": [],
   "source": [
    "from sklearn.preprocessing import MinMaxScaler\n",
    "\n",
    "MM_Scaler = MinMaxScaler()\n",
    "\n",
    "MM_Scaler.fit(X_train)\n",
    "MM_X_train = MM_Scaler.transform(X_train)"
   ]
  },
  {
   "cell_type": "code",
   "execution_count": 20,
   "metadata": {},
   "outputs": [],
   "source": [
    "MM_X_test = MM_Scaler.transform(X_test)"
   ]
  },
  {
   "cell_type": "markdown",
   "metadata": {},
   "source": [
    "####  • Un arbre CART (random_state=1)"
   ]
  },
  {
   "cell_type": "code",
   "execution_count": 21,
   "metadata": {},
   "outputs": [
    {
     "name": "stdout",
     "output_type": "stream",
     "text": [
      "Accuracy: 0.7285191956124314\n",
      "Precision: 0.820\n",
      "Recall: 0.801\n"
     ]
    }
   ],
   "source": [
    "####-----------------         DecisionTree         ---------------####\n",
    "\n",
    "clf = DecisionTreeClassifier(random_state=1)\n",
    "clf.fit(MM_X_train, y_train)\n",
    "y__scaled_SD_pred_DT = clf.predict(MM_X_test)\n",
    "\n",
    "print(\"Accuracy:\",metrics.accuracy_score(y_test, y__scaled_SD_pred_DT))\n",
    "\n",
    "# Calculate the confusion matrix\n",
    "conf_matrix_DT_scaled = confusion_matrix(y_true=y_test, y_pred=y__scaled_SD_pred_DT)\n",
    "\n",
    "#Precision & Recall\n",
    "print('Precision: %.3f' % precision_score(y_test, y__scaled_SD_pred_DT))\n",
    "print('Recall: %.3f' % recall_score(y_test, y__scaled_SD_pred_DT))\n",
    "\n",
    "Accuracy_DT_MM = metrics.accuracy_score(y_test, y__scaled_SD_pred_DT)\n",
    "APrecision_DT_MM = precision_score(y_test, y__scaled_SD_pred_DT)"
   ]
  },
  {
   "cell_type": "markdown",
   "metadata": {},
   "source": [
    "#### •  k-plus-proches-voisins avec k=5"
   ]
  },
  {
   "cell_type": "code",
   "execution_count": 22,
   "metadata": {},
   "outputs": [
    {
     "name": "stdout",
     "output_type": "stream",
     "text": [
      "Accuracy: 0.7454296160877514\n",
      "Precision: 0.808\n",
      "Recall: 0.851\n"
     ]
    }
   ],
   "source": [
    "####-----------------         KNN         ---------------####\n",
    "knn_model = KNeighborsClassifier(n_neighbors=5)\n",
    "knn_model.fit(MM_X_train, y_train)\n",
    "y_scaled_pred_knn = knn_model.predict(MM_X_test)\n",
    "\n",
    "#print(\"Accuracy:\",knn_model.score(X_test, y_test))\n",
    "print(\"Accuracy:\",metrics.accuracy_score(y_test, y_scaled_pred_knn))\n",
    "\n",
    "# Calculate the confusion matrix\n",
    "conf_matrix_KNN = confusion_matrix(y_true=y_test, y_pred=y_scaled_pred_knn)\n",
    "\n",
    "#Precision & Recall\n",
    "print('Precision: %.3f' % precision_score(y_test, y_scaled_pred_knn))\n",
    "print('Recall: %.3f' % recall_score(y_test, y_scaled_pred_knn))\n",
    "\n",
    "Accuracy_KNN_MM = metrics.accuracy_score(y_test, y_scaled_pred_knn)\n",
    "APrecision_KNN_MM = precision_score(y_test, y_scaled_pred_knn)"
   ]
  },
  {
   "cell_type": "markdown",
   "metadata": {},
   "source": [
    "#### • MultilayerPerceptron à deux couches de tailles respectives 40 et 20 et random_state=1"
   ]
  },
  {
   "cell_type": "code",
   "execution_count": 23,
   "metadata": {},
   "outputs": [
    {
     "name": "stdout",
     "output_type": "stream",
     "text": [
      "Accuracy: 0.7888482632541134\n",
      "Precision: 0.832\n",
      "Recall: 0.887\n"
     ]
    }
   ],
   "source": [
    "####-----------------         MLP         ---------------####\n",
    "mlp = MLPClassifier(hidden_layer_sizes=(40, 20),random_state=1)\n",
    "mlp.fit(MM_X_train,y_train)\n",
    "y__scaled_pred_mlp = mlp.predict(MM_X_test)\n",
    "\n",
    "\n",
    "print(\"Accuracy:\",metrics.accuracy_score(y_test, y__scaled_pred_mlp))\n",
    "\n",
    "# Calculate the confusion matrix\n",
    "conf_matrix_MLP = confusion_matrix(y_true=y_test, y_pred=y__scaled_pred_mlp)\n",
    "\n",
    "#Precision & Recall\n",
    "print('Precision: %.3f' % precision_score(y_test, y__scaled_pred_mlp))\n",
    "print('Recall: %.3f' % recall_score(y_test, y__scaled_pred_mlp))\n",
    "\n",
    "Accuracy_MLPC_MM = metrics.accuracy_score(y_test, y__scaled_pred_mlp)\n",
    "APrecision_MLPC_MM = precision_score(y_test, y__scaled_pred_mlp)"
   ]
  },
  {
   "cell_type": "markdown",
   "metadata": {},
   "source": [
    "##### Interprétation (comparaison entre les résutatls sans et avec normalisation et standarisation): "
   ]
  },
  {
   "cell_type": "code",
   "execution_count": 24,
   "metadata": {},
   "outputs": [
    {
     "name": "stdout",
     "output_type": "stream",
     "text": [
      "-------------------les résultats sans stanst ou normalisa : ---------------\n",
      "----les accuracy :                        raw data ;         StandardScale ;         MinMax\n",
      "          accuracy du MLPC         :0.7097806215722121      ; 0.776508226691042   ; 0.7888482632541134 ;\n",
      "          accuracy du KNN          : 0.7248628884826326     ; 0.7527422303473492  ;  {0.7454296160877514}\n",
      "          accuracy du DecisionTree : 0.7271480804387569     ; 0.7271480804387569   ; 0.7285191956124314\n",
      "----les Precisions :                        raw data ;         StandardScale ;         MinMax\n",
      "          Precision du MLPC        : 0.8613861386138614   ; 0.8381717109326745 ; 0.832345971563981 ;\n",
      "          Precision du KNN         : 0.7709713024282561   ; 0.8106015485407981  ;  0.8076692630317556 \n",
      "          Precision du DecisionTree: 0.8194174757281554   ; 0.8181818181818182   ; 0.8197674418604651\n"
     ]
    }
   ],
   "source": [
    "print(\"-------------------les résultats sans stanst ou normalisa : ---------------\")\n",
    "print(\"----les accuracy :                        raw data ;         StandardScale ;         MinMax\")\n",
    "print(f\"          accuracy du MLPC         :{Accuracy_MLPC_nan}      ; {Accuracy_MLPC_SD}   ; {Accuracy_MLPC_MM} ;\")\n",
    "print(f\"          accuracy du KNN          : {Accuracy_KNN_nan}     ; {Accuracy_KNN_SD}  ; \", {Accuracy_KNN_MM})\n",
    "print(f\"          accuracy du DecisionTree : {Accuracy_DT_nan}     ; {Accuracy_DT_SD}   ; {Accuracy_DT_MM}\")\n",
    "print(\"----les Precisions :                        raw data ;         StandardScale ;         MinMax\")\n",
    "print(f\"          Precision du MLPC        : {APrecision_MLPC_nan}   ; {APrecision_MLPC_SD} ; {APrecision_MLPC_MM} ;\")\n",
    "print(f\"          Precision du KNN         : {APrecision_KNN_nan}   ; {APrecision_KNN_SD}  ;  {APrecision_KNN_MM} \")\n",
    "print(f\"          Precision du DecisionTree: {APrecision_DT_nan}   ; {APrecision_DT_SD}   ; {APrecision_DT_MM}\")\n"
   ]
  },
  {
   "cell_type": "markdown",
   "metadata": {},
   "source": [
    "#####  Après la standarisation (StandardScaler) des données on trouve que les résultats progresse au niveau des 3 algos\n",
    "##### Par rapport précision on trouve que le MLPC avec MinMax est plus performant"
   ]
  },
  {
   "cell_type": "markdown",
   "metadata": {},
   "source": [
    "###  4. Création de nouvelles variables caractéristiques par combinaisons linéaires des variables initiales :"
   ]
  },
  {
   "cell_type": "code",
   "execution_count": 25,
   "metadata": {},
   "outputs": [],
   "source": [
    "###  ACP\n",
    "\n",
    "from sklearn.decomposition import PCA"
   ]
  },
  {
   "cell_type": "code",
   "execution_count": 26,
   "metadata": {},
   "outputs": [],
   "source": [
    "\n",
    "\n",
    "pca_raw = PCA(n_components=3)\n",
    "pca_raw.fit(X_train)\n",
    "pca_raw_tr = pca_raw.transform(X_train)\n",
    "pca_raw_ts = pca_raw.transform(X_test)\n",
    "\n",
    "pca_SD = PCA(n_components=3)\n",
    "pca_SD.fit(X_scaled_train)\n",
    "pca_SD_tr = pca_SD.transform(X_scaled_train)\n",
    "pca_SD_ts = pca_SD.transform(X_scaled_test)\n",
    "\n",
    "pca_MM = PCA(n_components=3)\n",
    "pca_MM.fit(MM_X_train)\n",
    "pca_MM_tr = pca_MM.transform(MM_X_train)\n",
    "pca_MM_ts = pca_MM.transform(MM_X_test)\n",
    "    \n",
    "\n"
   ]
  },
  {
   "cell_type": "code",
   "execution_count": 27,
   "metadata": {},
   "outputs": [],
   "source": [
    "Xtr_pca_raw = np.concatenate((X_train, pca_raw_tr), axis=1)\n",
    "Xts_pca_raw = np.concatenate((X_test, pca_raw_ts), axis=1)\n",
    "\n",
    "\n",
    "Xtr_pca_SD = np.concatenate((X_scaled_train, pca_SD_tr), axis=1)\n",
    "Xts_pca_SD = np.concatenate((X_scaled_test, pca_SD_ts), axis=1)\n",
    "\n",
    "\n",
    "Xtr_pca_MM = np.concatenate((MM_X_train, pca_MM_tr), axis=1)\n",
    "Xts_pca_MM = np.concatenate((MM_X_test, pca_MM_ts), axis=1)"
   ]
  },
  {
   "cell_type": "markdown",
   "metadata": {},
   "source": [
    "####  -----------------         DecisionTree         ---------------####"
   ]
  },
  {
   "cell_type": "code",
   "execution_count": 28,
   "metadata": {},
   "outputs": [
    {
     "name": "stdout",
     "output_type": "stream",
     "text": [
      "**************  DecisionTree ***********\n",
      "------------Raw data\n",
      "Accuracy: 0.7404021937842779\n",
      "Precision: 0.819\n",
      "Recall: 0.823\n",
      "------------Scaled Data : StandardScaler\n",
      "Accuracy: 0.7362888482632541\n",
      "Precision: 0.833\n",
      "Recall: 0.795\n",
      "------------Normalized Data : MinMax\n",
      "Accuracy: 0.7221206581352834\n",
      "Precision: 0.816\n",
      "Recall: 0.795\n"
     ]
    }
   ],
   "source": [
    "####-----------------         DecisionTree         ---------------####\n",
    "clf_raw = DecisionTreeClassifier(random_state=1)\n",
    "clf_SD = DecisionTreeClassifier(random_state=1)\n",
    "clf_MM = DecisionTreeClassifier(random_state=1)\n",
    "\n",
    "clf_raw.fit(Xtr_pca_raw, y_train)\n",
    "clf_SD.fit(Xtr_pca_SD, y_train)\n",
    "clf_MM.fit(Xtr_pca_MM, y_train)\n",
    "\n",
    "\n",
    "y__pred_raw = clf_raw.predict(Xts_pca_raw)\n",
    "y__pred_SD = clf_SD.predict(Xts_pca_SD)\n",
    "y__pred_MM = clf_MM.predict(Xts_pca_MM)\n",
    "\n",
    "\n",
    "# Calculate the confusion matrix\n",
    "conf_matrix_raw = confusion_matrix(y_true=y_test, y_pred=y__pred_raw)\n",
    "conf_matrix_DT_scaled = confusion_matrix(y_true=y_test, y_pred=y__pred_SD)\n",
    "conf_matrix_MM_scaled = confusion_matrix(y_true=y_test, y_pred=y__pred_MM)\n",
    "\n",
    "#Accuracy , Precision & Recall\n",
    "print(\"**************  DecisionTree ***********\")\n",
    "print(\"------------Raw data\")\n",
    "print(\"Accuracy:\",metrics.accuracy_score(y_test, y__pred_raw))\n",
    "print('Precision: %.3f' % precision_score(y_test, y__pred_raw))\n",
    "print('Recall: %.3f' % recall_score(y_test, y__pred_raw))\n",
    "\n",
    "print(\"------------Scaled Data : StandardScaler\")\n",
    "print(\"Accuracy:\",metrics.accuracy_score(y_test, y__pred_SD))\n",
    "print('Precision: %.3f' % precision_score(y_test, y__pred_SD))\n",
    "print('Recall: %.3f' % recall_score(y_test, y__pred_SD))\n",
    "\n",
    "print(\"------------Normalized Data : MinMax\")\n",
    "print(\"Accuracy:\",metrics.accuracy_score(y_test, y__pred_MM))\n",
    "print('Precision: %.3f' % precision_score(y_test, y__pred_MM))\n",
    "print('Recall: %.3f' % recall_score(y_test, y__pred_MM))"
   ]
  },
  {
   "cell_type": "markdown",
   "metadata": {},
   "source": [
    "#### -----------------         KNN         ---------------####"
   ]
  },
  {
   "cell_type": "code",
   "execution_count": 29,
   "metadata": {},
   "outputs": [
    {
     "name": "stdout",
     "output_type": "stream",
     "text": [
      "**************  KNN ***********\n",
      "------------raw data\n",
      "Accuracy: 0.7239488117001828\n",
      "Precision: 0.767\n",
      "Recall: 0.889\n",
      "------------Standarized Data : StandardScaler\n",
      "Accuracy: 0.756398537477148\n",
      "Precision: 0.810\n",
      "Recall: 0.866\n",
      "------------Normalized Data : MinMax\n",
      "Accuracy: 0.7445155393053017\n",
      "Precision: 0.806\n",
      "Recall: 0.852\n"
     ]
    }
   ],
   "source": [
    "####-----------------         KNN         ---------------####\n",
    "knn_model_raw = KNeighborsClassifier(n_neighbors=5)\n",
    "knn_model_SD = KNeighborsClassifier(n_neighbors=5)\n",
    "knn_model_MM = KNeighborsClassifier(n_neighbors=5)\n",
    "\n",
    "knn_model_raw.fit(Xtr_pca_raw, y_train)\n",
    "knn_model_SD.fit(Xtr_pca_SD, y_train)\n",
    "knn_model_MM.fit(Xtr_pca_MM, y_train)\n",
    "\n",
    "\n",
    "y_pr_raw_knn = knn_model_raw.predict(Xts_pca_raw)\n",
    "y_pr_SD_knn = knn_model_SD.predict(Xts_pca_SD)\n",
    "y_pr_MM_knn = knn_model_MM.predict(Xts_pca_MM)\n",
    "\n",
    "#print(\"Accuracy:\",knn_model.score(X_test, y_test))\n",
    "\n",
    "\n",
    "# Calculate the confusion matrix\n",
    "conf_matrix_KNN_raw = confusion_matrix(y_true=y_test, y_pred=y_pr_raw_knn)\n",
    "conf_matrix_KNN_SD = confusion_matrix(y_true=y_test, y_pred=y_pr_SD_knn)\n",
    "conf_matrix_KNN_MM = confusion_matrix(y_true=y_test, y_pred=y_pr_MM_knn)\n",
    "\n",
    "#Precision & Recall\n",
    "print(\"**************  KNN ***********\")\n",
    "print(\"------------raw data\")\n",
    "print(\"Accuracy:\",metrics.accuracy_score(y_test, y_pr_raw_knn))\n",
    "print('Precision: %.3f' % precision_score(y_test, y_pr_raw_knn))\n",
    "print('Recall: %.3f' % recall_score(y_test, y_pr_raw_knn))\n",
    "\n",
    "print(\"------------Standarized Data : StandardScaler\")\n",
    "print(\"Accuracy:\",metrics.accuracy_score(y_test, y_pr_SD_knn))\n",
    "print('Precision: %.3f' % precision_score(y_test, y_pr_SD_knn))\n",
    "print('Recall: %.3f' % recall_score(y_test, y_pr_SD_knn))\n",
    "\n",
    "print(\"------------Normalized Data : MinMax\")\n",
    "print(\"Accuracy:\",metrics.accuracy_score(y_test, y_pr_MM_knn))\n",
    "print('Precision: %.3f' % precision_score(y_test, y_pr_MM_knn))\n",
    "print('Recall: %.3f' % recall_score(y_test, y_pr_MM_knn))"
   ]
  },
  {
   "cell_type": "markdown",
   "metadata": {},
   "source": [
    "#### -----------------         MLP         ---------------####"
   ]
  },
  {
   "cell_type": "code",
   "execution_count": 30,
   "metadata": {},
   "outputs": [
    {
     "name": "stdout",
     "output_type": "stream",
     "text": [
      "**************  MLPC ***********\n",
      "------------raw data\n",
      "Accuracy: 0.6873857404021938\n",
      "Precision: 0.821\n",
      "Recall: 0.727\n",
      "------------Standarized Data : StandardScaler\n",
      "Accuracy: 0.770109689213894\n",
      "Precision: 0.827\n",
      "Recall: 0.863\n",
      "------------Normalized Data : MinMax\n",
      "Accuracy: 0.7925045703839122\n",
      "Precision: 0.835\n",
      "Recall: 0.890\n"
     ]
    }
   ],
   "source": [
    "####-----------------         MLP         ---------------####\n",
    "mlp_raw = MLPClassifier(hidden_layer_sizes=(40, 20),random_state=1)\n",
    "mlp_SD = MLPClassifier(hidden_layer_sizes=(40, 20),random_state=1)\n",
    "mlp_MM = MLPClassifier(hidden_layer_sizes=(40, 20),random_state=1)\n",
    "\n",
    "mlp_raw.fit(Xtr_pca_raw, y_train)\n",
    "mlp_SD.fit(Xtr_pca_SD, y_train)\n",
    "mlp_MM.fit(Xtr_pca_MM, y_train)\n",
    "\n",
    "y_pr_raw_mlp = mlp_raw.predict(Xts_pca_raw)\n",
    "y_pr_SD_mlp = mlp_SD.predict(Xts_pca_SD)\n",
    "y_pr_MM_mlp = mlp_MM.predict(Xts_pca_MM)\n",
    "\n",
    "\n",
    "# Calculate the confusion matrix\n",
    "conf_matrix_MLP = confusion_matrix(y_true=y_test, y_pred=y_pr_raw_mlp)\n",
    "conf_matrix_MLP = confusion_matrix(y_true=y_test, y_pred=y_pr_SD_mlp)\n",
    "conf_matrix_MLP = confusion_matrix(y_true=y_test, y_pred=y_pr_MM_mlp)\n",
    "\n",
    "#Precision & Recall\n",
    "print(\"**************  MLPC ***********\")\n",
    "print(\"------------raw data\")\n",
    "print(\"Accuracy:\",metrics.accuracy_score(y_test, y_pr_raw_mlp))\n",
    "print('Precision: %.3f' % precision_score(y_test, y_pr_raw_mlp))\n",
    "print('Recall: %.3f' % recall_score(y_test, y_pr_raw_mlp))\n",
    "\n",
    "print(\"------------Standarized Data : StandardScaler\")\n",
    "print(\"Accuracy:\",metrics.accuracy_score(y_test, y_pr_SD_mlp))\n",
    "print('Precision: %.3f' % precision_score(y_test, y_pr_SD_mlp))\n",
    "print('Recall: %.3f' % recall_score(y_test, y_pr_SD_mlp))\n",
    "\n",
    "print(\"------------Normalized Data : MinMax\")\n",
    "print(\"Accuracy:\",metrics.accuracy_score(y_test, y_pr_MM_mlp))\n",
    "print('Precision: %.3f' % precision_score(y_test, y_pr_MM_mlp))\n",
    "print('Recall: %.3f' % recall_score(y_test, y_pr_MM_mlp))"
   ]
  },
  {
   "cell_type": "markdown",
   "metadata": {},
   "source": [
    "##### Interprétation d'après l'ajout des CP(1,2,3) à nos jeu de données : \n",
    "    # * DecisionTree : une petite augmenttaion au niveau des résultats\n",
    "    # * KNN : je trouve pas une amélioration\n",
    "    # * MLPC : une augmentation \n",
    "    ## Décision :  concatenation avec les CPs n'a pas ajouté une valeur remarquable"
   ]
  },
  {
   "cell_type": "markdown",
   "metadata": {},
   "source": [
    "### 5. Sélection de variables"
   ]
  },
  {
   "cell_type": "markdown",
   "metadata": {},
   "source": [
    "##### D'après les tests déja faits, je vais utiliser les données normalisées (MinMax)"
   ]
  },
  {
   "cell_type": "markdown",
   "metadata": {},
   "source": [
    "#### Nous Utilisons  les données standarisées sans l'ajout des acp comme variables d'entrées\n",
    "    MM_X_test ; MM_X_train"
   ]
  },
  {
   "cell_type": "code",
   "execution_count": 31,
   "metadata": {},
   "outputs": [],
   "source": [
    "###datat = data.drop['Status']\n",
    "Entre_labels = data.columns\n",
    "Entre_labels = Entre_labels.drop(['Status'])\n",
    "\n"
   ]
  },
  {
   "cell_type": "code",
   "execution_count": 32,
   "metadata": {},
   "outputs": [
    {
     "name": "stdout",
     "output_type": "stream",
     "text": [
      "Index(['Income', 'Seniority', 'Price', 'Amount', 'Age', 'Assets', 'Expenses',\n",
      "       'Records', 'Time', 'Job', 'Debt', 'Home', 'Marital'],\n",
      "      dtype='object')\n"
     ]
    },
    {
     "data": {
      "image/png": "[encoded data removed]",
      "text/plain": [
       "<Figure size 432x288 with 1 Axes>"
      ]
     },
     "metadata": {
      "needs_background": "light"
     },
     "output_type": "display_data"
    }
   ],
   "source": [
    "from sklearn.ensemble import RandomForestClassifier\n",
    "Xtrain_scale = MM_X_train\n",
    "Y1 = y_train\n",
    "\n",
    "clf = RandomForestClassifier(n_estimators=100)\n",
    "clf.fit(Xtrain_scale, Y1)\n",
    "importances=clf.feature_importances_\n",
    "std = np.std([tree.feature_importances_ for tree in clf.estimators_],axis=0)\n",
    "sorted_idx = np.argsort(importances)[::-1]\n",
    "features = Entre_labels\n",
    "print(features[sorted_idx])\n",
    "padding = np.arange(Xtrain_scale.size/len(Xtrain_scale)) + 0.5 \n",
    "plt.barh(padding, importances[sorted_idx],xerr=std[sorted_idx], align='center') \n",
    "plt.yticks(padding, features[sorted_idx]) \n",
    "plt.xlabel(\"Relative Importance\")\n",
    "plt.title(\"Variable Importance\") \n",
    "plt.show()"
   ]
  },
  {
   "cell_type": "markdown",
   "metadata": {},
   "source": [
    "##### Utilisation du KNN comme algo pour déterminer le nbr des varibles"
   ]
  },
  {
   "cell_type": "code",
   "execution_count": 33,
   "metadata": {},
   "outputs": [
    {
     "data": {
      "image/png": "[encoded data removed]",
      "text/plain": [
       "<Figure size 432x288 with 1 Axes>"
      ]
     },
     "metadata": {
      "needs_background": "light"
     },
     "output_type": "display_data"
    }
   ],
   "source": [
    "# Utilisation du KNN comme algo pour déterminer le nbr des varibles\n",
    "Xtrain_scale = MM_X_train\n",
    "Xtest_scale = MM_X_test \n",
    "Y1 = y_train\n",
    "\n",
    "KNN=KNeighborsClassifier(n_neighbors=5)\n",
    "scores_KNN=np.zeros(Xtrain_scale.shape[1]+1)\n",
    "for f in np.arange(0, Xtrain_scale.shape[1]+1):\n",
    " X1_f = Xtrain_scale[:,sorted_idx[:f+1]]\n",
    " X2_f = Xtest_scale[:,sorted_idx[:f+1]]\n",
    " KNN.fit(X1_f,y_train)\n",
    " YKNN=KNN.predict(X2_f)\n",
    " scores_KNN[f]=np.round(metrics.accuracy_score(y_test,YKNN),3)\n",
    "plt.plot(scores_KNN)\n",
    "plt.xlabel(\"Nombre de Variables\")\n",
    "plt.ylabel(\"Accuracy\")\n",
    "plt.title(\"Evolution de l'accuracy en fonction des variables\")\n",
    "plt.show()"
   ]
  },
  {
   "cell_type": "code",
   "execution_count": 34,
   "metadata": {},
   "outputs": [
    {
     "name": "stdout",
     "output_type": "stream",
     "text": [
      "Accuracy avec le nbr optimal des varibles calculé par KNN\n"
     ]
    },
    {
     "data": {
      "text/plain": [
       "0.754"
      ]
     },
     "execution_count": 34,
     "metadata": {},
     "output_type": "execute_result"
    }
   ],
   "source": [
    "print(\"Accuracy avec le nbr optimal des varibles calculé par KNN\")\n",
    "scores_KNN[7]"
   ]
  },
  {
   "cell_type": "markdown",
   "metadata": {},
   "source": [
    "##### Utilisation du MLPC comme algo pour déterminer le nbr des varibles"
   ]
  },
  {
   "cell_type": "code",
   "execution_count": 35,
   "metadata": {},
   "outputs": [
    {
     "data": {
      "image/png": "[encoded data removed]",
      "text/plain": [
       "<Figure size 432x288 with 1 Axes>"
      ]
     },
     "metadata": {
      "needs_background": "light"
     },
     "output_type": "display_data"
    }
   ],
   "source": [
    "# Utilisation du MLPC comme algo pour déterminer le nbr des varibles\n",
    "Xtrain_scale = MM_X_train\n",
    "Xtest_scale = MM_X_test \n",
    "Y1 = y_train\n",
    "\n",
    "MLPC = MLPClassifier(hidden_layer_sizes=(40, 20),random_state=1)\n",
    "scores_MLPC=np.zeros(Xtrain_scale.shape[1]+1)\n",
    "for f in np.arange(0, Xtrain_scale.shape[1]+1):\n",
    " X1_f = Xtrain_scale[:,sorted_idx[:f+1]]\n",
    " X2_f = Xtest_scale[:,sorted_idx[:f+1]]\n",
    " MLPC.fit(X1_f,y_train)\n",
    " YMLPC = MLPC.predict(X2_f)\n",
    " scores_MLPC[f]=np.round(metrics.accuracy_score(y_test,YMLPC),3)\n",
    "plt.plot(scores_MLPC)\n",
    "plt.xlabel(\"Nombre de Variables\")\n",
    "plt.ylabel(\"Accuracy\")\n",
    "plt.title(\"Evolution de l'accuracy en fonction des variables\")\n",
    "plt.show()"
   ]
  },
  {
   "cell_type": "code",
   "execution_count": 36,
   "metadata": {},
   "outputs": [
    {
     "name": "stdout",
     "output_type": "stream",
     "text": [
      "Accuracy avec le nbr optimal des varibles calculé par MLPC\n"
     ]
    },
    {
     "data": {
      "text/plain": [
       "0.796"
      ]
     },
     "execution_count": 36,
     "metadata": {},
     "output_type": "execute_result"
    }
   ],
   "source": [
    "print(\"Accuracy avec le nbr optimal des varibles calculé par MLPC\")\n",
    "scores_MLPC[7]"
   ]
  },
  {
   "cell_type": "markdown",
   "metadata": {},
   "source": [
    "#### on garde 7 :  ( le mm nbr des variables à utiliser pour les 2 algo)"
   ]
  },
  {
   "cell_type": "markdown",
   "metadata": {},
   "source": [
    "#### Nous utilisons les données cancatainées avec les PCs\n",
    "\n",
    "######  Xtr_pca_MM ; Xts_pca_MM "
   ]
  },
  {
   "cell_type": "code",
   "execution_count": 37,
   "metadata": {},
   "outputs": [],
   "source": [
    "Entre_labels_pca = Entre_labels\n",
    "Entre_labels_pca = Entre_labels_pca.append(pd.Index(['PC1','PC2', 'PC3']))\n"
   ]
  },
  {
   "cell_type": "code",
   "execution_count": 38,
   "metadata": {},
   "outputs": [
    {
     "name": "stdout",
     "output_type": "stream",
     "text": [
      "Index(['Income', 'PC3', 'PC2', 'Seniority', 'PC1', 'Amount', 'Price', 'Age',\n",
      "       'Assets', 'Records', 'Expenses', 'Time', 'Debt', 'Job', 'Home',\n",
      "       'Marital'],\n",
      "      dtype='object')\n"
     ]
    },
    {
     "data": {
      "image/png": "[encoded data removed]",
      "text/plain": [
       "<Figure size 432x288 with 1 Axes>"
      ]
     },
     "metadata": {
      "needs_background": "light"
     },
     "output_type": "display_data"
    }
   ],
   "source": [
    "\n",
    "from sklearn.ensemble import RandomForestClassifier\n",
    "Xtrain_scale = Xtr_pca_MM\n",
    "Y1 = y_train\n",
    "\n",
    "clf = RandomForestClassifier(n_estimators=100)\n",
    "clf.fit(Xtrain_scale, Y1)\n",
    "importances=clf.feature_importances_\n",
    "std = np.std([tree.feature_importances_ for tree in clf.estimators_],axis=0)\n",
    "sorted_idx_acp = np.argsort(importances)[::-1]\n",
    "features = Entre_labels_pca\n",
    "print(features[sorted_idx_acp])\n",
    "padding = np.arange(Xtrain_scale.size/len(Xtrain_scale)) + 0.5 \n",
    "plt.barh(padding, importances[sorted_idx_acp],xerr=std[sorted_idx_acp], align='center') \n",
    "plt.yticks(padding, features[sorted_idx_acp]) \n",
    "plt.xlabel(\"Relative Importance\")\n",
    "plt.title(\"Variable Importance\") \n",
    "plt.show()"
   ]
  },
  {
   "cell_type": "markdown",
   "metadata": {},
   "source": [
    "##### Utilisation du KNN comme algo pour déterminer le nbr des varibles"
   ]
  },
  {
   "cell_type": "code",
   "execution_count": 39,
   "metadata": {},
   "outputs": [
    {
     "data": {
      "image/png": "[encoded data removed]",
      "text/plain": [
       "<Figure size 432x288 with 1 Axes>"
      ]
     },
     "metadata": {
      "needs_background": "light"
     },
     "output_type": "display_data"
    }
   ],
   "source": [
    "# Utilisation du KNN comme algo pour déterminer le nbr des varibles\n",
    "Ytrain =  y_train\n",
    "Ytest = y_test\n",
    "\n",
    "KNN=KNeighborsClassifier(n_neighbors=5)\n",
    "scores_KNN_PCA=np.zeros(Xtr_pca_MM.shape[1]+1)\n",
    "for f in np.arange(0, Xtr_pca_MM.shape[1]+1):\n",
    " X1_f = Xtr_pca_MM[:,sorted_idx_acp[:f+1]]\n",
    " X2_f = Xts_pca_MM[:,sorted_idx_acp[:f+1]]\n",
    " KNN.fit(X1_f,Ytrain)\n",
    " YKNN=KNN.predict(X2_f)\n",
    " scores_KNN_PCA[f]=np.round(metrics.accuracy_score(Ytest,YKNN),3)\n",
    "plt.plot(scores_KNN_PCA)\n",
    "plt.xlabel(\"Nombre de Variables\")\n",
    "plt.ylabel(\"Accuracy\")\n",
    "plt.title(\"Evolution de l'accuracy en fonction des variables\")\n",
    "plt.show()"
   ]
  },
  {
   "cell_type": "code",
   "execution_count": 40,
   "metadata": {},
   "outputs": [
    {
     "name": "stdout",
     "output_type": "stream",
     "text": [
      "Accuracy avec le nbr optimal des varibles calculé par KNN\n"
     ]
    },
    {
     "data": {
      "text/plain": [
       "0.767"
      ]
     },
     "execution_count": 40,
     "metadata": {},
     "output_type": "execute_result"
    }
   ],
   "source": [
    "print(\"Accuracy avec le nbr optimal des varibles calculé par KNN\")\n",
    "scores_KNN_PCA[4]"
   ]
  },
  {
   "cell_type": "markdown",
   "metadata": {},
   "source": [
    "##### Utilisation du MLPC comme algo pour déterminer le nbr des varibles"
   ]
  },
  {
   "cell_type": "code",
   "execution_count": 41,
   "metadata": {},
   "outputs": [
    {
     "data": {
      "image/png": "[encoded data removed]",
      "text/plain": [
       "<Figure size 432x288 with 1 Axes>"
      ]
     },
     "metadata": {
      "needs_background": "light"
     },
     "output_type": "display_data"
    }
   ],
   "source": [
    "# Utilisation du MLPC comme algo pour déterminer le nbr des varibles\n",
    "Ytrain =  y_train\n",
    "Ytest = y_test\n",
    "\n",
    "MLPC = MLPClassifier(hidden_layer_sizes=(40, 20),random_state=1)\n",
    "scores_MLPC_PCA=np.zeros(Xtr_pca_MM.shape[1]+1)\n",
    "for f in np.arange(0, Xtr_pca_MM.shape[1]+1):\n",
    " X1_f = Xtr_pca_MM[:,sorted_idx_acp[:f+1]]\n",
    " X2_f = Xts_pca_MM[:,sorted_idx_acp[:f+1]]\n",
    " MLPC.fit(X1_f,Ytrain)\n",
    " YMLPC = MLPC.predict(X2_f)\n",
    " scores_MLPC_PCA[f]=np.round(metrics.accuracy_score(Ytest,YMLPC),3)\n",
    "plt.plot(scores_MLPC_PCA)\n",
    "plt.xlabel(\"Nombre de Variables\")\n",
    "plt.ylabel(\"Accuracy\")\n",
    "plt.title(\"Evolution de l'accuracy en fonction des variables\")\n",
    "plt.show()"
   ]
  },
  {
   "cell_type": "code",
   "execution_count": 42,
   "metadata": {},
   "outputs": [
    {
     "name": "stdout",
     "output_type": "stream",
     "text": [
      "Accuracy avec le nbr optimal des varibles calculé par KNN\n"
     ]
    },
    {
     "data": {
      "text/plain": [
       "0.784"
      ]
     },
     "execution_count": 42,
     "metadata": {},
     "output_type": "execute_result"
    }
   ],
   "source": [
    "\n",
    "print(\"Accuracy avec le nbr optimal des varibles calculé par KNN\")\n",
    "scores_MLPC_PCA[7]"
   ]
  },
  {
   "cell_type": "markdown",
   "metadata": {},
   "source": [
    "##### D'après les 2 tests réalisés( avec ACP en utilisant KNN et MLPC), KNN a pu atteindre 0.76 avec 4 variables, mais notre chois était d'utiliser les variables (7 variables ) résultatnes du MLPC"
   ]
  },
  {
   "cell_type": "markdown",
   "metadata": {},
   "source": [
    "### 6. Paramétrage des classifieurs :\n",
    "#### GridSearch"
   ]
  },
  {
   "cell_type": "code",
   "execution_count": 43,
   "metadata": {},
   "outputs": [],
   "source": [
    "# sans ACP without variable selection  : MM_X_train ; MM_X_test \n",
    "# with ACP without variable selection  : Xtr_pca_MM ; Xts_pca_MM \n",
    " \n",
    "# Entre_labels  ; sorted_idx\n",
    "# Entre_labels_pca  ; sorted_idx_acp"
   ]
  },
  {
   "cell_type": "code",
   "execution_count": 44,
   "metadata": {},
   "outputs": [],
   "source": [
    "import_var_idx = sorted_idx[:7]\n",
    "import_var_idx_out = sorted_idx[7:]\n",
    "\n",
    "import_var_idx_pca = sorted_idx_acp[:7]\n",
    "import_var_idx_out_pca = sorted_idx_acp[7:]"
   ]
  },
  {
   "cell_type": "code",
   "execution_count": 45,
   "metadata": {},
   "outputs": [],
   "source": [
    "MM_X_train_7 = np.delete(MM_X_train, import_var_idx_out, 1)\n",
    "MM_X_test_7 = np.delete(MM_X_test, import_var_idx_out, 1)\n",
    "\n",
    "Xtr_pca_MM_7 = np.delete(Xtr_pca_MM, import_var_idx_out_pca, 1)\n",
    "Xts_pca_MM_7 = np.delete(Xts_pca_MM, import_var_idx_out_pca, 1)"
   ]
  },
  {
   "cell_type": "code",
   "execution_count": null,
   "metadata": {},
   "outputs": [],
   "source": []
  },
  {
   "cell_type": "markdown",
   "metadata": {},
   "source": [
    "#### ----------------------------- KNN : sans ACP------------------###\n"
   ]
  },
  {
   "cell_type": "code",
   "execution_count": 46,
   "metadata": {},
   "outputs": [
    {
     "name": "stdout",
     "output_type": "stream",
     "text": [
      "{'n_neighbors': 19}\n",
      "Accuracy for our training dataset with tuning is : 73.84%\n"
     ]
    }
   ],
   "source": [
    "#Sans acp\n",
    "knn = KNeighborsClassifier()\n",
    "from sklearn.model_selection import GridSearchCV\n",
    "k_range = list(range(1, 31))\n",
    "param_grid = dict(n_neighbors=k_range)\n",
    "  \n",
    "# defining parameter range\n",
    "grid = GridSearchCV(knn, param_grid, cv=5)\n",
    "  \n",
    "# fitting the model for grid search\n",
    "grid_search = grid.fit(MM_X_train_7, y_train)\n",
    "\n",
    "\n",
    "print(grid_search.best_params_)\n",
    "accuracy = grid_search.best_score_ *100\n",
    "print(\"Accuracy for our training dataset with tuning is : {:.2f}%\".format(accuracy) )"
   ]
  },
  {
   "cell_type": "code",
   "execution_count": 47,
   "metadata": {},
   "outputs": [
    {
     "name": "stdout",
     "output_type": "stream",
     "text": [
      "-------KNN sans CPs : \n",
      "Accuracy for our testing dataset with tuning is : 75.05%\n",
      "Precision: 0.773\n",
      "Recall: 0.928\n"
     ]
    }
   ],
   "source": [
    "knn = KNeighborsClassifier(n_neighbors=19)\n",
    "knn.fit(MM_X_train_7, y_train)\n",
    "y_test_hat=knn.predict(MM_X_test_7) \n",
    "test_accuracy=metrics.accuracy_score(y_test,y_test_hat)*100\n",
    "\n",
    "print(\"-------KNN sans CPs : \")\n",
    "print(\"Accuracy for our testing dataset with tuning is : {:.2f}%\".format(test_accuracy) )\n",
    "\n",
    "# Calculate the confusion matrix\n",
    "conf_matrix_KNN = confusion_matrix(y_true=y_test, y_pred=y_test_hat)\n",
    "\n",
    "#Precision & Recall\n",
    "print('Precision: %.3f' % precision_score(y_test, y_test_hat))\n",
    "print('Recall: %.3f' % recall_score(y_test, y_test_hat))"
   ]
  },
  {
   "cell_type": "markdown",
   "metadata": {},
   "source": [
    "#### ----------------------------- KNN : avec ACP------------------"
   ]
  },
  {
   "cell_type": "code",
   "execution_count": 48,
   "metadata": {},
   "outputs": [
    {
     "name": "stdout",
     "output_type": "stream",
     "text": [
      "{'n_neighbors': 27}\n",
      "Accuracy for our training dataset with tuning is : 75.99%\n"
     ]
    }
   ],
   "source": [
    "# avec les PCs (ACP)\n",
    "knn_acp = KNeighborsClassifier()\n",
    "from sklearn.model_selection import GridSearchCV\n",
    "k_range = list(range(1, 31))\n",
    "param_grid = dict(n_neighbors=k_range)\n",
    "  \n",
    "# defining parameter range\n",
    "grid = GridSearchCV(knn_acp, param_grid, cv=5)\n",
    "  \n",
    "# fitting the model for grid search\n",
    "grid_search = grid.fit(Xtr_pca_MM_7, y_train)\n",
    "\n",
    "\n",
    "print(grid_search.best_params_)\n",
    "accuracy = grid_search.best_score_ *100\n",
    "print(\"Accuracy for our training dataset with tuning is : {:.2f}%\".format(accuracy) )"
   ]
  },
  {
   "cell_type": "code",
   "execution_count": 49,
   "metadata": {},
   "outputs": [
    {
     "name": "stdout",
     "output_type": "stream",
     "text": [
      "-------KNN avec CPs : \n",
      "Accuracy for our testing dataset with tuning is : 77.38%\n",
      "Precision: 0.814\n",
      "Recall: 0.891\n"
     ]
    }
   ],
   "source": [
    "knn_acp = KNeighborsClassifier(n_neighbors=13)\n",
    "knn_acp.fit(Xtr_pca_MM_7, y_train)\n",
    "y_test_hat=knn_acp.predict(Xts_pca_MM_7) \n",
    "test_accuracy=metrics.accuracy_score(y_test,y_test_hat)*100\n",
    "print(\"-------KNN avec CPs : \")\n",
    "print(\"Accuracy for our testing dataset with tuning is : {:.2f}%\".format(test_accuracy) )\n",
    "\n",
    "# Calculate the confusion matrix\n",
    "conf_matrix_KNN = confusion_matrix(y_true=y_test, y_pred=y_test_hat)\n",
    "\n",
    "#Precision & Recall\n",
    "print('Precision: %.3f' % precision_score(y_test, y_test_hat))\n",
    "print('Recall: %.3f' % recall_score(y_test, y_test_hat))"
   ]
  },
  {
   "cell_type": "markdown",
   "metadata": {},
   "source": [
    "#### -----------------         MLP : sans acp        ---------------####"
   ]
  },
  {
   "cell_type": "code",
   "execution_count": 50,
   "metadata": {},
   "outputs": [
    {
     "name": "stdout",
     "output_type": "stream",
     "text": [
      "0.7969821673525377\n",
      "{'activation': 'tanh', 'alpha': 0.0001, 'hidden_layer_sizes': (20, 10), 'learning_rate': 'adaptive', 'solver': 'adam'}\n"
     ]
    }
   ],
   "source": [
    "\n",
    "\n",
    "parameters = {\n",
    "    'hidden_layer_sizes': [(40,20), (20,10)],\n",
    "    'activation': ['tanh', 'relu'],\n",
    "    'solver': ['sgd', 'adam'],\n",
    "    'alpha': [0.0001, 0.05],\n",
    "    'learning_rate': ['constant','adaptive'],\n",
    "}\n",
    "\n",
    "\n",
    "clf = GridSearchCV(MLPClassifier(), parameters, cv=5)\n",
    "\n",
    "clf.fit(MM_X_train, y_train)\n",
    "print(clf.score(MM_X_train, y_train))\n",
    "print(clf.best_params_)"
   ]
  },
  {
   "cell_type": "code",
   "execution_count": 51,
   "metadata": {},
   "outputs": [
    {
     "name": "stdout",
     "output_type": "stream",
     "text": [
      "-------MLPC sans CPs : \n",
      "Accuracy: 0.7984460694698354\n",
      "Precision: 0.828\n",
      "Recall: 0.911\n"
     ]
    }
   ],
   "source": [
    "\n",
    "mlp = MLPClassifier(hidden_layer_sizes=(40, 20),random_state=0, solver='adam', activation='tanh', alpha=0.0001, learning_rate = 'adaptive')\n",
    "mlp.fit(MM_X_train,y_train)\n",
    "y__scaled_pred_mlp = mlp.predict(MM_X_test)\n",
    "\n",
    "print(\"-------MLPC sans CPs : \")\n",
    "print(\"Accuracy:\",metrics.accuracy_score(y_test, y__scaled_pred_mlp))\n",
    "\n",
    "# Calculate the confusion matrix\n",
    "conf_matrix_MLP = confusion_matrix(y_true=y_test, y_pred=y__scaled_pred_mlp)\n",
    "\n",
    "#Precision & Recall\n",
    "print('Precision: %.3f' % precision_score(y_test, y__scaled_pred_mlp))\n",
    "print('Recall: %.3f' % recall_score(y_test, y__scaled_pred_mlp))"
   ]
  },
  {
   "cell_type": "markdown",
   "metadata": {},
   "source": [
    "#### ----------------------------- MLPC : avec ACP------------------"
   ]
  },
  {
   "cell_type": "code",
   "execution_count": 52,
   "metadata": {},
   "outputs": [
    {
     "name": "stdout",
     "output_type": "stream",
     "text": [
      "0.8052126200274349\n",
      "{'activation': 'tanh', 'alpha': 0.0001, 'hidden_layer_sizes': (40, 20), 'learning_rate': 'constant', 'solver': 'adam'}\n"
     ]
    }
   ],
   "source": [
    "# avec les PCs\n",
    "parameters = {\n",
    "    'hidden_layer_sizes': [(40,20), (20,10)],\n",
    "    'activation': ['tanh', 'relu'],\n",
    "    'solver': ['sgd', 'adam'],\n",
    "    'alpha': [0.0001, 0.05],\n",
    "    'learning_rate': ['constant','adaptive'],\n",
    "}\n",
    "\n",
    "\n",
    "clf = GridSearchCV(MLPClassifier(), parameters, cv=5)\n",
    "\n",
    "clf.fit(Xtr_pca_MM, y_train)\n",
    "print(clf.score(Xtr_pca_MM, y_train))\n",
    "print(clf.best_params_)"
   ]
  },
  {
   "cell_type": "code",
   "execution_count": 53,
   "metadata": {},
   "outputs": [
    {
     "name": "stdout",
     "output_type": "stream",
     "text": [
      "-------MLPC avec CPs : \n",
      "Accuracy: 0.7920475319926874\n",
      "Precision: 0.831\n",
      "Recall: 0.895\n"
     ]
    }
   ],
   "source": [
    "mlp = MLPClassifier(hidden_layer_sizes=(40, 20),random_state=0, solver='adam', activation='tanh', alpha=0.0001, learning_rate = 'adaptive')\n",
    "mlp.fit(Xtr_pca_MM,y_train)\n",
    "y__scaled_pred_mlp = mlp.predict(Xts_pca_MM)\n",
    "\n",
    "print(\"-------MLPC avec CPs : \")\n",
    "print(\"Accuracy:\",metrics.accuracy_score(y_test, y__scaled_pred_mlp))\n",
    "\n",
    "# Calculate the confusion matrix\n",
    "conf_matrix_MLP = confusion_matrix(y_true=y_test, y_pred=y__scaled_pred_mlp)\n",
    "\n",
    "#Precision & Recall\n",
    "print('Precision: %.3f' % precision_score(y_test, y__scaled_pred_mlp))\n",
    "print('Recall: %.3f' % recall_score(y_test, y__scaled_pred_mlp))"
   ]
  },
  {
   "cell_type": "markdown",
   "metadata": {},
   "source": [
    "#### -----------------  DecisionTree :  sans ACP -------------------###"
   ]
  },
  {
   "cell_type": "code",
   "execution_count": 54,
   "metadata": {},
   "outputs": [
    {
     "name": "stdout",
     "output_type": "stream",
     "text": [
      "0.7887517146776406\n",
      "{'max_leaf_nodes': 14, 'min_samples_split': 2}\n"
     ]
    }
   ],
   "source": [
    "#sans acp\n",
    "params = {'max_leaf_nodes': list(range(2, 100)), 'min_samples_split': [2, 3, 4]}\n",
    "grid_search_cv = GridSearchCV(DecisionTreeClassifier(), params, cv=3)\n",
    "grid_search_cv.fit(MM_X_train, y_train)\n",
    "print(grid_search_cv.score(MM_X_train, y_train))\n",
    "print(grid_search_cv.best_params_)"
   ]
  },
  {
   "cell_type": "code",
   "execution_count": 55,
   "metadata": {},
   "outputs": [
    {
     "name": "stdout",
     "output_type": "stream",
     "text": [
      "-------DT sans CPs : \n",
      "Accuracy: 0.7655393053016454\n",
      "Precision: 0.836\n",
      "Recall: 0.841\n"
     ]
    }
   ],
   "source": [
    "clf = DecisionTreeClassifier(random_state=1, max_leaf_nodes=14, min_samples_split=2)\n",
    "clf.fit(MM_X_train, y_train)\n",
    "y__scaled_PCA_pred_DT = clf.predict(MM_X_test)\n",
    "print(\"-------DT sans CPs : \")\n",
    "print(\"Accuracy:\",metrics.accuracy_score(y_test, y__scaled_PCA_pred_DT))\n",
    "\n",
    "# Calculate the confusion matrix\n",
    "conf_matrix_DT_scaled = confusion_matrix(y_true=y_test, y_pred=y__scaled_PCA_pred_DT)\n",
    "\n",
    "#Precision & Recall\n",
    "print('Precision: %.3f' % precision_score(y_test, y__scaled_PCA_pred_DT))\n",
    "print('Recall: %.3f' % recall_score(y_test, y__scaled_PCA_pred_DT))"
   ]
  },
  {
   "cell_type": "markdown",
   "metadata": {},
   "source": [
    "#### -----------------  DecisionTree :  avec ACP -------------------###"
   ]
  },
  {
   "cell_type": "code",
   "execution_count": 56,
   "metadata": {},
   "outputs": [
    {
     "name": "stdout",
     "output_type": "stream",
     "text": [
      "0.8148148148148148\n",
      "{'max_leaf_nodes': 27, 'min_samples_split': 3}\n"
     ]
    }
   ],
   "source": [
    "# avec les PCs\n",
    "\n",
    "params = {'max_leaf_nodes': list(range(2, 100)), 'min_samples_split': [2, 3, 4]}\n",
    "grid_search_cv = GridSearchCV(DecisionTreeClassifier(), params, cv=3)\n",
    "grid_search_cv.fit(Xtr_pca_MM, y_train)\n",
    "print(grid_search_cv.score(Xtr_pca_MM, y_train))\n",
    "print(grid_search_cv.best_params_)"
   ]
  },
  {
   "cell_type": "code",
   "execution_count": 57,
   "metadata": {},
   "outputs": [
    {
     "name": "stdout",
     "output_type": "stream",
     "text": [
      "-------DT avec CPs : \n",
      "Accuracy: 0.7714808043875686\n",
      "Precision: 0.836\n",
      "Recall: 0.851\n"
     ]
    }
   ],
   "source": [
    "clf = DecisionTreeClassifier(random_state=1, max_leaf_nodes=27, min_samples_split=2)\n",
    "clf.fit(Xtr_pca_MM, y_train)\n",
    "y__scaled_PCA_pred_DT = clf.predict(Xts_pca_MM)\n",
    "\n",
    "print(\"-------DT avec CPs : \")\n",
    "print(\"Accuracy:\",metrics.accuracy_score(y_test, y__scaled_PCA_pred_DT))\n",
    "\n",
    "# Calculate the confusion matrix\n",
    "conf_matrix_DT_scaled = confusion_matrix(y_true=y_test, y_pred=y__scaled_PCA_pred_DT)\n",
    "\n",
    "#Precision & Recall\n",
    "print('Precision: %.3f' % precision_score(y_test, y__scaled_PCA_pred_DT))\n",
    "print('Recall: %.3f' % recall_score(y_test, y__scaled_PCA_pred_DT))"
   ]
  },
  {
   "cell_type": "markdown",
   "metadata": {},
   "source": [
    "### 7. Création d’un pipeline :"
   ]
  },
  {
   "cell_type": "code",
   "execution_count": 58,
   "metadata": {},
   "outputs": [],
   "source": [
    "### PiPeLine\n",
    "from sklearn.pipeline import Pipeline "
   ]
  },
  {
   "cell_type": "markdown",
   "metadata": {},
   "source": [
    "#### Using : MinMax + Acp(concatener avec the rest) + selection de 7 variables basée  MLPC + l'algo d'apprentissa final (MLPC) \n",
    "#### MLPC : avec les para : {'activation': 'tanh', 'alpha': 0.0001, 'hidden_layer_sizes': (40, 20), 'learning_rate': 'adaptive', 'solver': 'adam'}"
   ]
  },
  {
   "cell_type": "markdown",
   "metadata": {},
   "source": [
    "###### # crétation de la fonction pre_processing qui contient les différents traitement (standarisation, ajout des PCs 'ACP' et enfin sélection de varibles ) "
   ]
  },
  {
   "cell_type": "code",
   "execution_count": 59,
   "metadata": {},
   "outputs": [],
   "source": [
    "\n",
    "from sklearn.base import BaseEstimator\n",
    "\n",
    "class PreProcessing(BaseEstimator):\n",
    "\n",
    "    def __init__(self, scaler, pca_, sorted_x):\n",
    "        self.scaler = scaler\n",
    "        self.pca_ = pca_\n",
    "        self.sorted_x = sorted_x\n",
    "\n",
    "    def fit(self, X, y=None):\n",
    "        return self\n",
    "\n",
    "    def transform(self, X):\n",
    "        X_ = X.copy()\n",
    "        X_scaled = self.scaler.transform(X_)\n",
    "        X_sc_pca = self.pca_.transform(X_scaled)\n",
    "        Xtr_pca_SD = np.concatenate((X_scaled, X_sc_pca), axis=1)\n",
    "        import_var_idx_pca = self.sorted_x[:7]\n",
    "        X_cleaned = np.delete(Xtr_pca_SD, import_var_idx_pca, 1)\n",
    "        return X_cleaned\n",
    "        "
   ]
  },
  {
   "cell_type": "code",
   "execution_count": 60,
   "metadata": {},
   "outputs": [],
   "source": [
    "from sklearn.pipeline import Pipeline \n",
    "\n",
    "model_pipeline = Pipeline(steps=[('PreProcessing', PreProcessing(MM_Scaler, pca_MM, sorted_idx_acp)), \n",
    "                                 ('MLPC', MLPClassifier(hidden_layer_sizes=(40, 20),random_state=0, solver='adam', activation='tanh', alpha=0.0001, learning_rate = 'adaptive'))\n",
    "                                 ])"
   ]
  },
  {
   "cell_type": "markdown",
   "metadata": {},
   "source": [
    "####  Applying Pipe on our Data"
   ]
  },
  {
   "cell_type": "markdown",
   "metadata": {},
   "source": [
    "#### On train data"
   ]
  },
  {
   "cell_type": "code",
   "execution_count": 61,
   "metadata": {
    "scrolled": true
   },
   "outputs": [
    {
     "name": "stdout",
     "output_type": "stream",
     "text": [
      "the pipeline__  Train\n",
      "Accuracy: 0.7718335619570188\n",
      "Precision: 0.797\n",
      "Recall: 0.916\n"
     ]
    }
   ],
   "source": [
    "###  Applying Pipe on our Data\n",
    "\n",
    "# X_train, X_test, y_train, y_test\n",
    "\n",
    "    # fit the pipeline with the training data\n",
    "model_pipeline.fit(X_train,y_train)\n",
    "\n",
    "    # predict target values on the training data\n",
    "predi_pipe = model_pipeline.predict(X_train)\n",
    "\n",
    "print(\"the pipeline__  Train\")\n",
    "print(\"Accuracy:\",metrics.accuracy_score(y_train, predi_pipe))\n",
    "print('Precision: %.3f' % precision_score(y_train, predi_pipe))\n",
    "print('Recall: %.3f' % recall_score(y_train, predi_pipe))"
   ]
  },
  {
   "cell_type": "markdown",
   "metadata": {},
   "source": [
    "#### on Test data"
   ]
  },
  {
   "cell_type": "code",
   "execution_count": 62,
   "metadata": {},
   "outputs": [
    {
     "name": "stdout",
     "output_type": "stream",
     "text": [
      "the pipeline__  Test\n",
      "Accuracy: 0.7582266910420475\n",
      "Precision: 0.792\n",
      "Recall: 0.904\n"
     ]
    }
   ],
   "source": [
    "\n",
    "    # fit the pipeline with the test data\n",
    "model_pipeline.fit(X_test,y_test)\n",
    "\n",
    "    # predict target values on the test data\n",
    "predi_pipe_test = model_pipeline.predict(X_test)\n",
    "\n",
    "print(\"the pipeline__  Test\")\n",
    "print(\"Accuracy:\",metrics.accuracy_score(y_test, predi_pipe_test))\n",
    "print('Precision: %.3f' % precision_score(y_test, predi_pipe_test))\n",
    "print('Recall: %.3f' % recall_score(y_test, predi_pipe_test))"
   ]
  },
  {
   "cell_type": "code",
   "execution_count": 63,
   "metadata": {},
   "outputs": [
    {
     "ename": "FileNotFoundError",
     "evalue": "[Errno 2] No such file or directory: 'results/Final_model.pkl'",
     "output_type": "error",
     "traceback": [
      "\u001b[1;31m---------------------------------------------------------------------------\u001b[0m",
      "\u001b[1;31mFileNotFoundError\u001b[0m                         Traceback (most recent call last)",
      "\u001b[1;32m<ipython-input-63-9abd49d444c4>\u001b[0m in \u001b[0;36m<module>\u001b[1;34m\u001b[0m\n\u001b[0;32m      1\u001b[0m \u001b[1;32mimport\u001b[0m \u001b[0mpickle\u001b[0m\u001b[1;33m\u001b[0m\u001b[1;33m\u001b[0m\u001b[0m\n\u001b[0;32m      2\u001b[0m \u001b[1;33m\u001b[0m\u001b[0m\n\u001b[1;32m----> 3\u001b[1;33m \u001b[0mpickle\u001b[0m\u001b[1;33m.\u001b[0m\u001b[0mdump\u001b[0m\u001b[1;33m(\u001b[0m\u001b[0mmodel_pipeline\u001b[0m\u001b[1;33m,\u001b[0m \u001b[0mopen\u001b[0m\u001b[1;33m(\u001b[0m\u001b[1;34m\"results/Final_model.pkl\"\u001b[0m\u001b[1;33m,\u001b[0m \u001b[1;34m\"wb\"\u001b[0m\u001b[1;33m)\u001b[0m\u001b[1;33m)\u001b[0m\u001b[1;33m\u001b[0m\u001b[1;33m\u001b[0m\u001b[0m\n\u001b[0m\u001b[0;32m      4\u001b[0m \u001b[1;33m\u001b[0m\u001b[0m\n",
      "\u001b[1;31mFileNotFoundError\u001b[0m: [Errno 2] No such file or directory: 'results/Final_model.pkl'"
     ]
    }
   ],
   "source": [
    "import pickle\n",
    "\n",
    "pickle.dump(model_pipeline, open(\"results/Final_model.pkl\", \"wb\"))\n",
    "\n"
   ]
  },
  {
   "cell_type": "markdown",
   "metadata": {},
   "source": [
    "### 8. Comparaison de plusieurs algorithmes d’apprentissage"
   ]
  },
  {
   "cell_type": "markdown",
   "metadata": {},
   "source": [
    "###  Création du run_classifiers "
   ]
  },
  {
   "cell_type": "code",
   "execution_count": 64,
   "metadata": {},
   "outputs": [],
   "source": [
    "from sklearn.model_selection import KFold\n",
    "from sklearn.model_selection import cross_val_score\n",
    "from sklearn.naive_bayes import GaussianNB\n",
    "from sklearn.ensemble import BaggingClassifier\n",
    "from sklearn.ensemble import AdaBoostClassifier\n",
    "from sklearn import svm\n",
    "\n",
    "from sklearn.metrics import roc_curve,auc\n",
    "from sklearn.model_selection import StratifiedKFold\n",
    "import matplotlib.patches as patches\n",
    "from scipy import interp\n",
    "\n",
    "\n",
    "\n",
    "clfs = { \n",
    "    'GB' : GaussianNB(),\n",
    "    'DT' : DecisionTreeClassifier(random_state=1, max_leaf_nodes=14, min_samples_split=2),\n",
    "    'RF': RandomForestClassifier(n_estimators=50, random_state=1),\n",
    "    'MLPC' : MLPClassifier(hidden_layer_sizes=(20, 10)),\n",
    "    'KNN': KNeighborsClassifier(n_neighbors=13),\n",
    "    'AdaBoost' : AdaBoostClassifier(base_estimator = DecisionTreeClassifier(random_state=1, max_leaf_nodes=14, min_samples_split=2),\n",
    "                                    n_estimators=50, random_state=0),\n",
    "    'Bagging' : BaggingClassifier(base_estimator = DecisionTreeClassifier(random_state=1, max_leaf_nodes=14, min_samples_split=2), n_estimators=50, \n",
    "                                        random_state=1)\n",
    "    \n",
    "    \n",
    "}\n",
    "\n"
   ]
  },
  {
   "cell_type": "code",
   "execution_count": 65,
   "metadata": {},
   "outputs": [],
   "source": [
    "Algos = ['GB', 'DT', 'RF', 'MLPC', 'KNN', 'AdaBoost', 'Bagging']"
   ]
  },
  {
   "cell_type": "code",
   "execution_count": 66,
   "metadata": {},
   "outputs": [],
   "source": [
    "def run_classifiers(clfs, X, labels):\n",
    "    l = 0\n",
    "    for i in clfs:\n",
    "        clf = clfs[i]\n",
    "        cv = StratifiedKFold(n_splits=10,shuffle=False)\n",
    "        accurs = []\n",
    "        presis = []\n",
    "        aucs = []\n",
    "        i = 1\n",
    "        for train,test in cv.split(X, labels):\n",
    "            clf.fit(np.take(X, train, axis = 0),np.take(labels, train, axis = 0))\n",
    "            prediction = clf.predict(np.take(X, test, axis = 0))\n",
    "            accur = metrics.accuracy_score(labels[test], prediction)\n",
    "            accurs.append(accur)\n",
    "            presi = precision_score(labels[test], prediction)\n",
    "            presis.append(presi)\n",
    "            fpr, tpr, thresholds = metrics.roc_curve(labels[test], prediction) \n",
    "            auc = metrics.auc(fpr, tpr)\n",
    "            aucs.append(auc)\n",
    "        print(f\"-----------** Algo used : {Algos[l]} **------------\")\n",
    "        print(f\"Accuracy Moyenne : {np.mean(accurs)};  STD : {np.std(accurs)}\")\n",
    "        print(f\"Precision Moyenne : {np.mean(presis)};  STD : {np.std(presis)}\")          \n",
    "        print(f\"AUC Moyenne : {np.mean(aucs)};  STD : {np.std(aucs)}\")\n",
    "        l = l+ 1"
   ]
  },
  {
   "cell_type": "markdown",
   "metadata": {},
   "source": [
    "#### Applying run-classifers on raw data"
   ]
  },
  {
   "cell_type": "code",
   "execution_count": 67,
   "metadata": {},
   "outputs": [
    {
     "name": "stdout",
     "output_type": "stream",
     "text": [
      "-----------** Algo used : GB **------------\n",
      "Accuracy Moyenne : 0.769134196420175;  STD : 0.019254854819342068\n",
      "Precision Moyenne : 0.83013772812129;  STD : 0.017456106390382004\n",
      "AUC Moyenne : 0.6995273126317383;  STD : 0.026830948478299716\n",
      "-----------** Algo used : DT **------------\n",
      "Accuracy Moyenne : 0.7629666781605592;  STD : 0.014490737173755767\n",
      "Precision Moyenne : 0.8036856552004684;  STD : 0.01982810138124268\n",
      "AUC Moyenne : 0.6609022229800777;  STD : 0.03145340783816196\n",
      "-----------** Algo used : RF **------------\n",
      "Accuracy Moyenne : 0.7812545061283346;  STD : 0.014630713355477389\n",
      "Precision Moyenne : 0.8196438562695993;  STD : 0.015544217820900251\n",
      "AUC Moyenne : 0.6907433206433377;  STD : 0.02395520370638492\n",
      "-----------** Algo used : MLPC **------------\n",
      "Accuracy Moyenne : 0.7174341452201081;  STD : 0.06002254418139846\n",
      "Precision Moyenne : 0.7919978088072055;  STD : 0.04471892886707363\n",
      "AUC Moyenne : 0.6190819197654829;  STD : 0.06430763383106396\n",
      "-----------** Algo used : KNN **------------\n",
      "Accuracy Moyenne : 0.7321055766276919;  STD : 0.020846758392405153\n",
      "Precision Moyenne : 0.7611185429313235;  STD : 0.013259972728816821\n",
      "AUC Moyenne : 0.5843746253767194;  STD : 0.02749953831129245\n",
      "-----------** Algo used : AdaBoost **------------\n",
      "Accuracy Moyenne : 0.7519926230107729;  STD : 0.024147861252683207\n",
      "Precision Moyenne : 0.8162684985780848;  STD : 0.016725698420783728\n",
      "AUC Moyenne : 0.6755886700145692;  STD : 0.02788021198080804\n",
      "-----------** Algo used : Bagging **------------\n",
      "Accuracy Moyenne : 0.7826248915916951;  STD : 0.01897150883436281\n",
      "Precision Moyenne : 0.8010133749502995;  STD : 0.015390475081406415\n",
      "AUC Moyenne : 0.664380388372069;  STD : 0.029056451054223192\n"
     ]
    }
   ],
   "source": [
    "# for raw data\n",
    "run_classifiers(clfs, X, labels)"
   ]
  },
  {
   "cell_type": "markdown",
   "metadata": {},
   "source": [
    "##### Interprétation : d'après l'utilisation des différents algos, on constate que RandumForrest donne des résultats plus satisfaisantes que les autres "
   ]
  },
  {
   "cell_type": "markdown",
   "metadata": {},
   "source": [
    "#### Applying run-classifers on cleand data #( data passé par pre_processing obtenus après les tests): "
   ]
  },
  {
   "cell_type": "code",
   "execution_count": 68,
   "metadata": {},
   "outputs": [
    {
     "name": "stdout",
     "output_type": "stream",
     "text": [
      "-----------** Algo used : GB **------------\n",
      "Accuracy Moyenne : 0.6973694659519556;  STD : 0.014960898669333172\n",
      "Precision Moyenne : 0.7245081873402369;  STD : 0.007576443665124764\n",
      "AUC Moyenne : 0.5056607440017332;  STD : 0.01747924337790674\n",
      "-----------** Algo used : DT **------------\n",
      "Accuracy Moyenne : 0.7154336854644054;  STD : 0.01166239164580017\n",
      "Precision Moyenne : 0.7231485885092416;  STD : 0.004024331217311154\n",
      "AUC Moyenne : 0.5027486756108311;  STD : 0.009411850840153972\n",
      "-----------** Algo used : RF **------------\n",
      "Accuracy Moyenne : 0.7060635507768827;  STD : 0.010643560343904067\n",
      "Precision Moyenne : 0.725620021358259;  STD : 0.005919939954596091\n",
      "AUC Moyenne : 0.5084088963411342;  STD : 0.012997166371727287\n",
      "-----------** Algo used : MLPC **------------\n",
      "Accuracy Moyenne : 0.7202302958109986;  STD : 0.00533271267169749\n",
      "Precision Moyenne : 0.7235931472581482;  STD : 0.0025414714092832666\n",
      "AUC Moyenne : 0.5037870372253213;  STD : 0.0050474386629953075\n",
      "-----------** Algo used : KNN **------------\n",
      "Accuracy Moyenne : 0.7028625016979614;  STD : 0.01196317699377762\n",
      "Precision Moyenne : 0.7227324132383557;  STD : 0.005953982723432901\n",
      "AUC Moyenne : 0.5016356527113192;  STD : 0.012970269097920463\n",
      "-----------** Algo used : AdaBoost **------------\n",
      "Accuracy Moyenne : 0.6292592708692518;  STD : 0.020129379490256186\n",
      "Precision Moyenne : 0.7241888307777369;  STD : 0.009717987085222366\n",
      "AUC Moyenne : 0.5042508755966376;  STD : 0.019117390017816246\n",
      "-----------** Algo used : Bagging **------------\n",
      "Accuracy Moyenne : 0.7225149681828156;  STD : 0.001349405759477734\n",
      "Precision Moyenne : 0.7224913505161127;  STD : 0.0012683914066637068\n",
      "AUC Moyenne : 0.5010780544984643;  STD : 0.0016956456394652778\n"
     ]
    }
   ],
   "source": [
    "# cleaned data ( data passé par pre_processing obtenus après les tests): \n",
    "#Xtr_pca_MM, y_train, Xts_pca_MM, y_test\n",
    "X_cleaned = np.concatenate((Xtr_pca_MM, Xts_pca_MM), axis=0)\n",
    "run_classifiers(clfs, X_cleaned, labels)"
   ]
  },
  {
   "cell_type": "markdown",
   "metadata": {},
   "source": [
    "##### Interprétation : d'après l'utilisation des différents algos, on constate que Bagging donne des résultats plus satisfaisantes que les autres "
   ]
  },
  {
   "cell_type": "markdown",
   "metadata": {},
   "source": [
    "# II. Apprentissage supervisé : Données hétérogènes\n"
   ]
  },
  {
   "cell_type": "markdown",
   "metadata": {},
   "source": [
    "##### importation des donnes"
   ]
  },
  {
   "cell_type": "code",
   "execution_count": 70,
   "metadata": {},
   "outputs": [
    {
     "name": "stdout",
     "output_type": "stream",
     "text": [
      "(687, 16)\n"
     ]
    },
    {
     "data": {
      "text/html": [
       "<div>\n",
       "<style scoped>\n",
       "    .dataframe tbody tr th:only-of-type {\n",
       "        vertical-align: middle;\n",
       "    }\n",
       "\n",
       "    .dataframe tbody tr th {\n",
       "        vertical-align: top;\n",
       "    }\n",
       "\n",
       "    .dataframe thead th {\n",
       "        text-align: right;\n",
       "    }\n",
       "</style>\n",
       "<table border=\"1\" class=\"dataframe\">\n",
       "  <thead>\n",
       "    <tr style=\"text-align: right;\">\n",
       "      <th></th>\n",
       "      <th>b</th>\n",
       "      <th>30.83</th>\n",
       "      <th>0</th>\n",
       "      <th>u</th>\n",
       "      <th>g</th>\n",
       "      <th>w</th>\n",
       "      <th>v</th>\n",
       "      <th>1.25</th>\n",
       "      <th>t</th>\n",
       "      <th>t.1</th>\n",
       "      <th>1</th>\n",
       "      <th>f</th>\n",
       "      <th>g.1</th>\n",
       "      <th>202</th>\n",
       "      <th>0.1</th>\n",
       "      <th>+</th>\n",
       "    </tr>\n",
       "  </thead>\n",
       "  <tbody>\n",
       "    <tr>\n",
       "      <th>0</th>\n",
       "      <td>a</td>\n",
       "      <td>58.67</td>\n",
       "      <td>4.460</td>\n",
       "      <td>u</td>\n",
       "      <td>g</td>\n",
       "      <td>q</td>\n",
       "      <td>h</td>\n",
       "      <td>3.04</td>\n",
       "      <td>t</td>\n",
       "      <td>t</td>\n",
       "      <td>6</td>\n",
       "      <td>f</td>\n",
       "      <td>g</td>\n",
       "      <td>43</td>\n",
       "      <td>560</td>\n",
       "      <td>+</td>\n",
       "    </tr>\n",
       "    <tr>\n",
       "      <th>1</th>\n",
       "      <td>a</td>\n",
       "      <td>24.50</td>\n",
       "      <td>0.500</td>\n",
       "      <td>u</td>\n",
       "      <td>g</td>\n",
       "      <td>q</td>\n",
       "      <td>h</td>\n",
       "      <td>1.50</td>\n",
       "      <td>t</td>\n",
       "      <td>f</td>\n",
       "      <td>0</td>\n",
       "      <td>f</td>\n",
       "      <td>g</td>\n",
       "      <td>280</td>\n",
       "      <td>824</td>\n",
       "      <td>+</td>\n",
       "    </tr>\n",
       "    <tr>\n",
       "      <th>2</th>\n",
       "      <td>b</td>\n",
       "      <td>27.83</td>\n",
       "      <td>1.540</td>\n",
       "      <td>u</td>\n",
       "      <td>g</td>\n",
       "      <td>w</td>\n",
       "      <td>v</td>\n",
       "      <td>3.75</td>\n",
       "      <td>t</td>\n",
       "      <td>t</td>\n",
       "      <td>5</td>\n",
       "      <td>t</td>\n",
       "      <td>g</td>\n",
       "      <td>100</td>\n",
       "      <td>3</td>\n",
       "      <td>+</td>\n",
       "    </tr>\n",
       "    <tr>\n",
       "      <th>3</th>\n",
       "      <td>b</td>\n",
       "      <td>20.17</td>\n",
       "      <td>5.625</td>\n",
       "      <td>u</td>\n",
       "      <td>g</td>\n",
       "      <td>w</td>\n",
       "      <td>v</td>\n",
       "      <td>1.71</td>\n",
       "      <td>t</td>\n",
       "      <td>f</td>\n",
       "      <td>0</td>\n",
       "      <td>f</td>\n",
       "      <td>s</td>\n",
       "      <td>120</td>\n",
       "      <td>0</td>\n",
       "      <td>+</td>\n",
       "    </tr>\n",
       "    <tr>\n",
       "      <th>4</th>\n",
       "      <td>b</td>\n",
       "      <td>32.08</td>\n",
       "      <td>4.000</td>\n",
       "      <td>u</td>\n",
       "      <td>g</td>\n",
       "      <td>m</td>\n",
       "      <td>v</td>\n",
       "      <td>2.50</td>\n",
       "      <td>t</td>\n",
       "      <td>f</td>\n",
       "      <td>0</td>\n",
       "      <td>t</td>\n",
       "      <td>g</td>\n",
       "      <td>360</td>\n",
       "      <td>0</td>\n",
       "      <td>+</td>\n",
       "    </tr>\n",
       "  </tbody>\n",
       "</table>\n",
       "</div>"
      ],
      "text/plain": [
       "   b  30.83      0  u  g  w  v  1.25  t t.1  1  f g.1  202  0.1  +\n",
       "0  a  58.67  4.460  u  g  q  h  3.04  t   t  6  f   g   43  560  +\n",
       "1  a  24.50  0.500  u  g  q  h  1.50  t   f  0  f   g  280  824  +\n",
       "2  b  27.83  1.540  u  g  w  v  3.75  t   t  5  t   g  100    3  +\n",
       "3  b  20.17  5.625  u  g  w  v  1.71  t   f  0  f   s  120    0  +\n",
       "4  b  32.08  4.000  u  g  m  v  2.50  t   f  0  t   g  360    0  +"
      ]
     },
     "execution_count": 70,
     "metadata": {},
     "output_type": "execute_result"
    }
   ],
   "source": [
    "data = pd.read_csv(\"./credit.data\",sep=\"\\t\")\n",
    "\n",
    "print(data.shape)\n",
    "data.head()"
   ]
  },
  {
   "cell_type": "markdown",
   "metadata": {},
   "source": [
    "##### séparation des variables caractéristiques de la variable à prédire"
   ]
  },
  {
   "cell_type": "code",
   "execution_count": 71,
   "metadata": {},
   "outputs": [],
   "source": [
    "X = data.iloc[:, 0:14].values\n",
    "Y = data.iloc[:, 15].values"
   ]
  },
  {
   "cell_type": "code",
   "execution_count": 72,
   "metadata": {},
   "outputs": [
    {
     "data": {
      "text/plain": [
       "b         object\n",
       "30.83     object\n",
       "0        float64\n",
       "u         object\n",
       "g         object\n",
       "w         object\n",
       "v         object\n",
       "1.25     float64\n",
       "t         object\n",
       "t.1       object\n",
       "1          int64\n",
       "f         object\n",
       "g.1       object\n",
       "202       object\n",
       "0.1        int64\n",
       "+         object\n",
       "dtype: object"
      ]
     },
     "execution_count": 72,
     "metadata": {},
     "output_type": "execute_result"
    }
   ],
   "source": [
    "data.dtypes"
   ]
  },
  {
   "cell_type": "code",
   "execution_count": 73,
   "metadata": {},
   "outputs": [],
   "source": [
    "# netoyer les  (?)\n",
    "data=data.drop(data[data['30.83'].str.contains(r'[?]+')|\n",
    "        data['202'].str.contains(r'[?]+') |\n",
    "        data['+'].str.contains(r'[?]+')].index)\n"
   ]
  },
  {
   "cell_type": "code",
   "execution_count": 74,
   "metadata": {},
   "outputs": [],
   "source": [
    "# Binariser le target (+ en 1 et – en 0)\n",
    "datau = data.copy()\n",
    "for x in datau.index:\n",
    "  if datau.loc[x, \"+\"]== \"+\":\n",
    "    datau.loc[x, \"+\"] = 1\n",
    "  else:\n",
    "    datau.loc[x, \"+\"] = 0\n",
    "\n",
    "#print(datau.to_string())"
   ]
  },
  {
   "cell_type": "code",
   "execution_count": 75,
   "metadata": {},
   "outputs": [],
   "source": [
    "convert_dict = {'30.83': float,\n",
    "                '202': float,\n",
    "                '+': float\n",
    "               }\n",
    "datau = datau.astype(convert_dict)\n",
    "#print(datau.dtypes)"
   ]
  },
  {
   "cell_type": "code",
   "execution_count": 76,
   "metadata": {},
   "outputs": [
    {
     "data": {
      "text/html": [
       "<div>\n",
       "<style scoped>\n",
       "    .dataframe tbody tr th:only-of-type {\n",
       "        vertical-align: middle;\n",
       "    }\n",
       "\n",
       "    .dataframe tbody tr th {\n",
       "        vertical-align: top;\n",
       "    }\n",
       "\n",
       "    .dataframe thead th {\n",
       "        text-align: right;\n",
       "    }\n",
       "</style>\n",
       "<table border=\"1\" class=\"dataframe\">\n",
       "  <thead>\n",
       "    <tr style=\"text-align: right;\">\n",
       "      <th></th>\n",
       "      <th>30.83</th>\n",
       "      <th>0</th>\n",
       "      <th>1.25</th>\n",
       "      <th>1</th>\n",
       "      <th>202</th>\n",
       "      <th>0.1</th>\n",
       "      <th>+</th>\n",
       "    </tr>\n",
       "  </thead>\n",
       "  <tbody>\n",
       "    <tr>\n",
       "      <th>0</th>\n",
       "      <td>58.67</td>\n",
       "      <td>4.460</td>\n",
       "      <td>3.04</td>\n",
       "      <td>6</td>\n",
       "      <td>43.0</td>\n",
       "      <td>560</td>\n",
       "      <td>1.0</td>\n",
       "    </tr>\n",
       "    <tr>\n",
       "      <th>1</th>\n",
       "      <td>24.50</td>\n",
       "      <td>0.500</td>\n",
       "      <td>1.50</td>\n",
       "      <td>0</td>\n",
       "      <td>280.0</td>\n",
       "      <td>824</td>\n",
       "      <td>1.0</td>\n",
       "    </tr>\n",
       "    <tr>\n",
       "      <th>2</th>\n",
       "      <td>27.83</td>\n",
       "      <td>1.540</td>\n",
       "      <td>3.75</td>\n",
       "      <td>5</td>\n",
       "      <td>100.0</td>\n",
       "      <td>3</td>\n",
       "      <td>1.0</td>\n",
       "    </tr>\n",
       "    <tr>\n",
       "      <th>3</th>\n",
       "      <td>20.17</td>\n",
       "      <td>5.625</td>\n",
       "      <td>1.71</td>\n",
       "      <td>0</td>\n",
       "      <td>120.0</td>\n",
       "      <td>0</td>\n",
       "      <td>1.0</td>\n",
       "    </tr>\n",
       "    <tr>\n",
       "      <th>4</th>\n",
       "      <td>32.08</td>\n",
       "      <td>4.000</td>\n",
       "      <td>2.50</td>\n",
       "      <td>0</td>\n",
       "      <td>360.0</td>\n",
       "      <td>0</td>\n",
       "      <td>1.0</td>\n",
       "    </tr>\n",
       "  </tbody>\n",
       "</table>\n",
       "</div>"
      ],
      "text/plain": [
       "   30.83      0  1.25  1    202  0.1    +\n",
       "0  58.67  4.460  3.04  6   43.0  560  1.0\n",
       "1  24.50  0.500  1.50  0  280.0  824  1.0\n",
       "2  27.83  1.540  3.75  5  100.0    3  1.0\n",
       "3  20.17  5.625  1.71  0  120.0    0  1.0\n",
       "4  32.08  4.000  2.50  0  360.0    0  1.0"
      ]
     },
     "execution_count": 76,
     "metadata": {},
     "output_type": "execute_result"
    }
   ],
   "source": [
    "# Création d'un sous-ensemble de données en gardant que les variables numériques \n",
    "\n",
    "numerics = ['int16', 'int32', 'int64', 'float64','float']\n",
    "datau = datau.select_dtypes(include=numerics)\n",
    "\n",
    "\n",
    "datau.head()\n",
    "\n",
    "#print(data.to_string())"
   ]
  },
  {
   "cell_type": "code",
   "execution_count": 77,
   "metadata": {},
   "outputs": [
    {
     "name": "stdout",
     "output_type": "stream",
     "text": [
      "The number of positives: 298\n",
      "The number of negatives: 367\n",
      "(665, 7)\n"
     ]
    },
    {
     "data": {
      "text/plain": [
       "array([[<AxesSubplot:title={'center':'30.83'}>,\n",
       "        <AxesSubplot:title={'center':'0'}>,\n",
       "        <AxesSubplot:title={'center':'1.25'}>],\n",
       "       [<AxesSubplot:title={'center':'1'}>,\n",
       "        <AxesSubplot:title={'center':'202'}>,\n",
       "        <AxesSubplot:title={'center':'0.1'}>],\n",
       "       [<AxesSubplot:title={'center':'+'}>, <AxesSubplot:>,\n",
       "        <AxesSubplot:>]], dtype=object)"
      ]
     },
     "execution_count": 77,
     "metadata": {},
     "output_type": "execute_result"
    },
    {
     "data": {
      "image/png": "[encoded data removed]",
      "text/plain": [
       "<Figure size 432x288 with 9 Axes>"
      ]
     },
     "metadata": {
      "needs_background": "light"
     },
     "output_type": "display_data"
    }
   ],
   "source": [
    "#Analyse des propriétés de données\n",
    "\n",
    "print(\"The number of positives:\", datau[datau[\"+\"]==1].shape[0])\n",
    "print(\"The number of negatives:\", datau[datau[\"+\"]==0].shape[0])\n",
    "print(datau.shape)\n",
    "datau.hist()"
   ]
  },
  {
   "cell_type": "code",
   "execution_count": 78,
   "metadata": {},
   "outputs": [],
   "source": [
    "XX = datau.iloc[:, 0:6].values\n",
    "YY = datau.iloc[:,6].values"
   ]
  },
  {
   "cell_type": "code",
   "execution_count": 79,
   "metadata": {},
   "outputs": [
    {
     "name": "stdout",
     "output_type": "stream",
     "text": [
      "-----------** Algo used : GB **------------\n",
      "Accuracy Moyenne : 0.7186567164179105;  STD : 0.061292534615370514\n",
      "Precision Moyenne : 0.8289001106355393;  STD : 0.1162351408703565\n",
      "AUC Moyenne : 0.69534042663353;  STD : 0.06341033742102076\n",
      "-----------** Algo used : DT **------------\n",
      "Accuracy Moyenne : 0.7577114427860696;  STD : 0.0381928627727904\n",
      "Precision Moyenne : 0.7827319141432044;  STD : 0.07130581018577811\n",
      "AUC Moyenne : 0.7479248213730972;  STD : 0.04071724506940855\n",
      "-----------** Algo used : RF **------------\n",
      "Accuracy Moyenne : 0.7773631840796019;  STD : 0.0717262625381543\n",
      "Precision Moyenne : 0.78366930171278;  STD : 0.08214453411558537\n",
      "AUC Moyenne : 0.7699210417313866;  STD : 0.0742089366341196\n",
      "-----------** Algo used : MLPC **------------\n",
      "Accuracy Moyenne : 0.6784034373586613;  STD : 0.09300742808968418\n",
      "Precision Moyenne : 0.665576424852287;  STD : 0.11980095682306346\n",
      "AUC Moyenne : 0.6680345863104484;  STD : 0.09519097631373942\n",
      "-----------** Algo used : KNN **------------\n",
      "Accuracy Moyenne : 0.6735639981908638;  STD : 0.05210601125362108\n",
      "Precision Moyenne : 0.6681476699371436;  STD : 0.08673760017151676\n",
      "AUC Moyenne : 0.6642111939525732;  STD : 0.05002524939820266\n",
      "-----------** Algo used : AdaBoost **------------\n",
      "Accuracy Moyenne : 0.7592718227046584;  STD : 0.045050901123972184\n",
      "Precision Moyenne : 0.7427711863911399;  STD : 0.05459104168937446\n",
      "AUC Moyenne : 0.7550339132235684;  STD : 0.04671791344620385\n",
      "-----------** Algo used : Bagging **------------\n",
      "Accuracy Moyenne : 0.7925599276345545;  STD : 0.06723298012507502\n",
      "Precision Moyenne : 0.8214703984040369;  STD : 0.09881518680065299\n",
      "AUC Moyenne : 0.7834122916019467;  STD : 0.06729457416933995\n"
     ]
    }
   ],
   "source": [
    "run_classifiers(clfs, XX, YY)"
   ]
  },
  {
   "cell_type": "markdown",
   "metadata": {},
   "source": [
    "### Normalisation des variables continues\n"
   ]
  },
  {
   "cell_type": "code",
   "execution_count": 81,
   "metadata": {},
   "outputs": [],
   "source": [
    "scaler = StandardScaler()\n",
    "\n",
    "scaler.fit(XX)\n",
    "X_scaled = scaler.transform(XX)"
   ]
  },
  {
   "cell_type": "code",
   "execution_count": 82,
   "metadata": {},
   "outputs": [],
   "source": [
    "X_train, X_test = train_test_split(X_scaled, train_size=0.5, random_state=1)\n",
    "Y_train, Y_test = train_test_split(YY, train_size=0.5, random_state=1)"
   ]
  },
  {
   "cell_type": "code",
   "execution_count": 83,
   "metadata": {},
   "outputs": [
    {
     "name": "stdout",
     "output_type": "stream",
     "text": [
      "-----------** Algo used : GB **------------\n",
      "Accuracy Moyenne : 0.7186567164179105;  STD : 0.061292534615370514\n",
      "Precision Moyenne : 0.8289001106355393;  STD : 0.1162351408703565\n",
      "AUC Moyenne : 0.69534042663353;  STD : 0.06341033742102076\n",
      "-----------** Algo used : DT **------------\n",
      "Accuracy Moyenne : 0.7577114427860696;  STD : 0.0381928627727904\n",
      "Precision Moyenne : 0.7827319141432044;  STD : 0.07130581018577811\n",
      "AUC Moyenne : 0.7479248213730972;  STD : 0.04071724506940855\n",
      "-----------** Algo used : RF **------------\n",
      "Accuracy Moyenne : 0.7789009497964722;  STD : 0.0678140336338677\n",
      "Precision Moyenne : 0.7843129097012155;  STD : 0.07580965758875592\n",
      "AUC Moyenne : 0.7715877083980532;  STD : 0.07048335747975681\n",
      "-----------** Algo used : MLPC **------------\n",
      "Accuracy Moyenne : 0.7955223880597015;  STD : 0.0544079834794311\n",
      "Precision Moyenne : 0.8300726584628186;  STD : 0.08041290492290595\n",
      "AUC Moyenne : 0.7858372165268717;  STD : 0.05563184841744296\n",
      "-----------** Algo used : KNN **------------\n",
      "Accuracy Moyenne : 0.7547489823609227;  STD : 0.07089992246301478\n",
      "Precision Moyenne : 0.8246542657698264;  STD : 0.10556151318657338\n",
      "AUC Moyenne : 0.7378924614269441;  STD : 0.07277362498010599\n",
      "-----------** Algo used : AdaBoost **------------\n",
      "Accuracy Moyenne : 0.7592718227046584;  STD : 0.045050901123972184\n",
      "Precision Moyenne : 0.7427711863911399;  STD : 0.05459104168937446\n",
      "AUC Moyenne : 0.7550339132235684;  STD : 0.04671791344620385\n",
      "-----------** Algo used : Bagging **------------\n",
      "Accuracy Moyenne : 0.7940524649479872;  STD : 0.0699444537183699\n",
      "Precision Moyenne : 0.821612848546487;  STD : 0.09901782264788561\n",
      "AUC Moyenne : 0.7850789582686135;  STD : 0.07037539284297803\n"
     ]
    }
   ],
   "source": [
    "run_classifiers(clfs, X_scaled, YY)"
   ]
  },
  {
   "cell_type": "code",
   "execution_count": 84,
   "metadata": {},
   "outputs": [
    {
     "data": {
      "text/plain": [
       "SimpleImputer(add_indicator=False, copy=True, fill_value=None,\n",
       "              missing_values=nan, strategy='mean', verbose=0)"
      ]
     },
     "execution_count": 84,
     "metadata": {},
     "output_type": "execute_result"
    }
   ],
   "source": [
    "from sklearn.impute import SimpleImputer\n",
    "\n",
    "#data = pd.read_csv(\"./credit.data\",sep=\"\\t\")\n",
    "\n",
    "#print(data.shape)\n",
    "#data.head()\n",
    "\n",
    "categorical_features=['b','u','g','w','v','t','t.1','f','g.1']\n",
    "dataN=data[categorical_features]\n",
    "\n",
    "\n",
    "\n",
    "impF = SimpleImputer(missing_values=np.nan, strategy='most_frequent')\n",
    "impF.fit(dataN)\n",
    "\n",
    "impMean = SimpleImputer(missing_values=np.nan, strategy='mean')\n",
    "impMean.fit(datau)"
   ]
  },
  {
   "cell_type": "code",
   "execution_count": 85,
   "metadata": {},
   "outputs": [
    {
     "name": "stdout",
     "output_type": "stream",
     "text": [
      "MAINTENAT on est a : (665, 50)\n"
     ]
    },
    {
     "data": {
      "text/html": [
       "<div>\n",
       "<style scoped>\n",
       "    .dataframe tbody tr th:only-of-type {\n",
       "        vertical-align: middle;\n",
       "    }\n",
       "\n",
       "    .dataframe tbody tr th {\n",
       "        vertical-align: top;\n",
       "    }\n",
       "\n",
       "    .dataframe thead th {\n",
       "        text-align: right;\n",
       "    }\n",
       "</style>\n",
       "<table border=\"1\" class=\"dataframe\">\n",
       "  <thead>\n",
       "    <tr style=\"text-align: right;\">\n",
       "      <th></th>\n",
       "      <th>30.83</th>\n",
       "      <th>0</th>\n",
       "      <th>1.25</th>\n",
       "      <th>1</th>\n",
       "      <th>202</th>\n",
       "      <th>0.1</th>\n",
       "      <th>+</th>\n",
       "      <th>b_?</th>\n",
       "      <th>b_a</th>\n",
       "      <th>b_b</th>\n",
       "      <th>...</th>\n",
       "      <th>v_z</th>\n",
       "      <th>t_f</th>\n",
       "      <th>t_t</th>\n",
       "      <th>t.1_f</th>\n",
       "      <th>t.1_t</th>\n",
       "      <th>f_f</th>\n",
       "      <th>f_t</th>\n",
       "      <th>g.1_g</th>\n",
       "      <th>g.1_p</th>\n",
       "      <th>g.1_s</th>\n",
       "    </tr>\n",
       "  </thead>\n",
       "  <tbody>\n",
       "    <tr>\n",
       "      <th>0</th>\n",
       "      <td>58.67</td>\n",
       "      <td>4.460</td>\n",
       "      <td>3.04</td>\n",
       "      <td>6</td>\n",
       "      <td>43.0</td>\n",
       "      <td>560</td>\n",
       "      <td>1.0</td>\n",
       "      <td>0</td>\n",
       "      <td>1</td>\n",
       "      <td>0</td>\n",
       "      <td>...</td>\n",
       "      <td>0</td>\n",
       "      <td>0</td>\n",
       "      <td>1</td>\n",
       "      <td>0</td>\n",
       "      <td>1</td>\n",
       "      <td>1</td>\n",
       "      <td>0</td>\n",
       "      <td>1</td>\n",
       "      <td>0</td>\n",
       "      <td>0</td>\n",
       "    </tr>\n",
       "    <tr>\n",
       "      <th>1</th>\n",
       "      <td>24.50</td>\n",
       "      <td>0.500</td>\n",
       "      <td>1.50</td>\n",
       "      <td>0</td>\n",
       "      <td>280.0</td>\n",
       "      <td>824</td>\n",
       "      <td>1.0</td>\n",
       "      <td>0</td>\n",
       "      <td>1</td>\n",
       "      <td>0</td>\n",
       "      <td>...</td>\n",
       "      <td>0</td>\n",
       "      <td>0</td>\n",
       "      <td>1</td>\n",
       "      <td>1</td>\n",
       "      <td>0</td>\n",
       "      <td>1</td>\n",
       "      <td>0</td>\n",
       "      <td>1</td>\n",
       "      <td>0</td>\n",
       "      <td>0</td>\n",
       "    </tr>\n",
       "    <tr>\n",
       "      <th>2</th>\n",
       "      <td>27.83</td>\n",
       "      <td>1.540</td>\n",
       "      <td>3.75</td>\n",
       "      <td>5</td>\n",
       "      <td>100.0</td>\n",
       "      <td>3</td>\n",
       "      <td>1.0</td>\n",
       "      <td>0</td>\n",
       "      <td>0</td>\n",
       "      <td>1</td>\n",
       "      <td>...</td>\n",
       "      <td>0</td>\n",
       "      <td>0</td>\n",
       "      <td>1</td>\n",
       "      <td>0</td>\n",
       "      <td>1</td>\n",
       "      <td>0</td>\n",
       "      <td>1</td>\n",
       "      <td>1</td>\n",
       "      <td>0</td>\n",
       "      <td>0</td>\n",
       "    </tr>\n",
       "    <tr>\n",
       "      <th>3</th>\n",
       "      <td>20.17</td>\n",
       "      <td>5.625</td>\n",
       "      <td>1.71</td>\n",
       "      <td>0</td>\n",
       "      <td>120.0</td>\n",
       "      <td>0</td>\n",
       "      <td>1.0</td>\n",
       "      <td>0</td>\n",
       "      <td>0</td>\n",
       "      <td>1</td>\n",
       "      <td>...</td>\n",
       "      <td>0</td>\n",
       "      <td>0</td>\n",
       "      <td>1</td>\n",
       "      <td>1</td>\n",
       "      <td>0</td>\n",
       "      <td>1</td>\n",
       "      <td>0</td>\n",
       "      <td>0</td>\n",
       "      <td>0</td>\n",
       "      <td>1</td>\n",
       "    </tr>\n",
       "    <tr>\n",
       "      <th>4</th>\n",
       "      <td>32.08</td>\n",
       "      <td>4.000</td>\n",
       "      <td>2.50</td>\n",
       "      <td>0</td>\n",
       "      <td>360.0</td>\n",
       "      <td>0</td>\n",
       "      <td>1.0</td>\n",
       "      <td>0</td>\n",
       "      <td>0</td>\n",
       "      <td>1</td>\n",
       "      <td>...</td>\n",
       "      <td>0</td>\n",
       "      <td>0</td>\n",
       "      <td>1</td>\n",
       "      <td>1</td>\n",
       "      <td>0</td>\n",
       "      <td>0</td>\n",
       "      <td>1</td>\n",
       "      <td>1</td>\n",
       "      <td>0</td>\n",
       "      <td>0</td>\n",
       "    </tr>\n",
       "  </tbody>\n",
       "</table>\n",
       "<p>5 rows × 50 columns</p>\n",
       "</div>"
      ],
      "text/plain": [
       "   30.83      0  1.25  1    202  0.1    +  b_?  b_a  b_b  ...  v_z  t_f  t_t  \\\n",
       "0  58.67  4.460  3.04  6   43.0  560  1.0    0    1    0  ...    0    0    1   \n",
       "1  24.50  0.500  1.50  0  280.0  824  1.0    0    1    0  ...    0    0    1   \n",
       "2  27.83  1.540  3.75  5  100.0    3  1.0    0    0    1  ...    0    0    1   \n",
       "3  20.17  5.625  1.71  0  120.0    0  1.0    0    0    1  ...    0    0    1   \n",
       "4  32.08  4.000  2.50  0  360.0    0  1.0    0    0    1  ...    0    0    1   \n",
       "\n",
       "   t.1_f  t.1_t  f_f  f_t  g.1_g  g.1_p  g.1_s  \n",
       "0      0      1    1    0      1      0      0  \n",
       "1      1      0    1    0      1      0      0  \n",
       "2      0      1    0    1      1      0      0  \n",
       "3      1      0    1    0      0      0      1  \n",
       "4      1      0    0    1      1      0      0  \n",
       "\n",
       "[5 rows x 50 columns]"
      ]
     },
     "execution_count": 85,
     "metadata": {},
     "output_type": "execute_result"
    }
   ],
   "source": [
    "dataN = pd.get_dummies(dataN)\n",
    "#data = data.drop(categorical_features, axis=1)\n",
    "\n",
    "datau = pd.concat([datau, dataN], axis=1)\n",
    "\n",
    "print(\"MAINTENAT on est a :\" ,datau.shape)\n",
    "\n",
    "#data.head()\n",
    "\n",
    "\n",
    "datau.head()"
   ]
  },
  {
   "cell_type": "code",
   "execution_count": 86,
   "metadata": {},
   "outputs": [
    {
     "name": "stdout",
     "output_type": "stream",
     "text": [
      "(332, 49)\n",
      "(333,)\n"
     ]
    }
   ],
   "source": [
    "#datau.iloc[:, 6].values\n",
    "#print(datau.dtypes)\n",
    "concat = pd.concat([datau.iloc[:, 0:6], datau.iloc[:, 7:50]], axis=1)\n",
    "X=concat.values\n",
    "Y = datau.iloc[:, 6].values\n",
    "\n",
    "X_train, X_test = train_test_split(X, train_size=0.5, random_state=1)\n",
    "Y_train, Y_test = train_test_split(Y, train_size=0.5, random_state=1)\n",
    "Y_train=Y_train.astype('int')\n",
    "\n",
    "\n",
    "print(X_train.shape)\n",
    "print(Y_test.shape)"
   ]
  },
  {
   "cell_type": "code",
   "execution_count": 87,
   "metadata": {},
   "outputs": [
    {
     "name": "stdout",
     "output_type": "stream",
     "text": [
      "-----------** Algo used : GB **------------\n",
      "Accuracy Moyenne : 0.8270465852555405;  STD : 0.11108319629967486\n",
      "Precision Moyenne : 0.8624335154764438;  STD : 0.16238777350848008\n",
      "AUC Moyenne : 0.8223785854820338;  STD : 0.10577438797223039\n",
      "-----------** Algo used : DT **------------\n",
      "Accuracy Moyenne : 0.8194482134780643;  STD : 0.148326106028259\n",
      "Precision Moyenne : 0.8594552337063858;  STD : 0.18878203545200958\n",
      "AUC Moyenne : 0.8183972765869317;  STD : 0.13545316043626013\n",
      "-----------** Algo used : RF **------------\n",
      "Accuracy Moyenne : 0.8586386250565354;  STD : 0.15028682691754733\n",
      "Precision Moyenne : 0.8763690476190475;  STD : 0.18412053667043643\n",
      "AUC Moyenne : 0.8603160919540229;  STD : 0.1386591689733057\n",
      "-----------** Algo used : MLPC **------------\n",
      "Accuracy Moyenne : 0.7274762550881955;  STD : 0.1140175869143088\n",
      "Precision Moyenne : 0.7210993091617419;  STD : 0.12328096428906501\n",
      "AUC Moyenne : 0.7270283214248732;  STD : 0.10528534068012356\n",
      "-----------** Algo used : KNN **------------\n",
      "Accuracy Moyenne : 0.6750791497060153;  STD : 0.05210370966801213\n",
      "Precision Moyenne : 0.670528622318096;  STD : 0.08633655431127556\n",
      "AUC Moyenne : 0.6656000828414621;  STD : 0.05011262662480588\n",
      "-----------** Algo used : AdaBoost **------------\n",
      "Accuracy Moyenne : 0.8316372682044324;  STD : 0.12506689139845142\n",
      "Precision Moyenne : 0.8606111608697816;  STD : 0.1677897579601364\n",
      "AUC Moyenne : 0.8303815884850367;  STD : 0.11184750577676424\n",
      "-----------** Algo used : Bagging **------------\n",
      "Accuracy Moyenne : 0.8466530981456355;  STD : 0.153863061651203\n",
      "Precision Moyenne : 0.8704998147144455;  STD : 0.18653697551613108\n",
      "AUC Moyenne : 0.848464326395361;  STD : 0.1401844385593455\n"
     ]
    }
   ],
   "source": [
    "run_classifiers(clfs, X, Y)"
   ]
  },
  {
   "cell_type": "markdown",
   "metadata": {},
   "source": [
    "## III. Apprentissage supervisé sur des données textuelles : Feature engineering et Classification"
   ]
  },
  {
   "cell_type": "code",
   "execution_count": 88,
   "metadata": {},
   "outputs": [
    {
     "data": {
      "text/html": [
       "<div>\n",
       "<style scoped>\n",
       "    .dataframe tbody tr th:only-of-type {\n",
       "        vertical-align: middle;\n",
       "    }\n",
       "\n",
       "    .dataframe tbody tr th {\n",
       "        vertical-align: top;\n",
       "    }\n",
       "\n",
       "    .dataframe thead th {\n",
       "        text-align: right;\n",
       "    }\n",
       "</style>\n",
       "<table border=\"1\" class=\"dataframe\">\n",
       "  <thead>\n",
       "    <tr style=\"text-align: right;\">\n",
       "      <th></th>\n",
       "      <th>ham</th>\n",
       "      <th>Go until jurong point, crazy.. Available only in bugis n great world la e buffet... Cine there got amore wat...</th>\n",
       "    </tr>\n",
       "  </thead>\n",
       "  <tbody>\n",
       "    <tr>\n",
       "      <th>0</th>\n",
       "      <td>ham</td>\n",
       "      <td>Ok lar... Joking wif u oni...</td>\n",
       "    </tr>\n",
       "    <tr>\n",
       "      <th>1</th>\n",
       "      <td>spam</td>\n",
       "      <td>Free entry in 2 a wkly comp to win FA Cup fina...</td>\n",
       "    </tr>\n",
       "    <tr>\n",
       "      <th>2</th>\n",
       "      <td>ham</td>\n",
       "      <td>U dun say so early hor... U c already then say...</td>\n",
       "    </tr>\n",
       "    <tr>\n",
       "      <th>3</th>\n",
       "      <td>ham</td>\n",
       "      <td>Nah I don't think he goes to usf, he lives aro...</td>\n",
       "    </tr>\n",
       "    <tr>\n",
       "      <th>4</th>\n",
       "      <td>spam</td>\n",
       "      <td>FreeMsg Hey there darling it's been 3 week's n...</td>\n",
       "    </tr>\n",
       "  </tbody>\n",
       "</table>\n",
       "</div>"
      ],
      "text/plain": [
       "    ham  \\\n",
       "0   ham   \n",
       "1  spam   \n",
       "2   ham   \n",
       "3   ham   \n",
       "4  spam   \n",
       "\n",
       "  Go until jurong point, crazy.. Available only in bugis n great world la e buffet... Cine there got amore wat...  \n",
       "0                      Ok lar... Joking wif u oni...                                                               \n",
       "1  Free entry in 2 a wkly comp to win FA Cup fina...                                                               \n",
       "2  U dun say so early hor... U c already then say...                                                               \n",
       "3  Nah I don't think he goes to usf, he lives aro...                                                               \n",
       "4  FreeMsg Hey there darling it's been 3 week's n...                                                               "
      ]
     },
     "execution_count": 88,
     "metadata": {},
     "output_type": "execute_result"
    }
   ],
   "source": [
    "\n",
    "ytext = pd.read_csv(\"./SMSSpamCollection.data\",sep=\"\\t\")\n",
    "\n",
    "ytext.head()\n",
    "\n",
    "#ytext.shape"
   ]
  },
  {
   "cell_type": "code",
   "execution_count": 89,
   "metadata": {},
   "outputs": [],
   "source": [
    "for x in ytext.index:\n",
    "  if ytext.loc[x, \"ham\"]== \"spam\":\n",
    "    ytext.loc[x, \"ham\"] = 1\n",
    "  else:\n",
    "    ytext.loc[x, \"ham\"] = 0"
   ]
  },
  {
   "cell_type": "markdown",
   "metadata": {},
   "source": [
    "#### CountVectorizer"
   ]
  },
  {
   "cell_type": "code",
   "execution_count": 91,
   "metadata": {},
   "outputs": [
    {
     "data": {
      "text/plain": [
       "(5571, 200)"
      ]
     },
     "execution_count": 91,
     "metadata": {},
     "output_type": "execute_result"
    }
   ],
   "source": [
    "\n",
    "from sklearn.feature_extraction.text import CountVectorizer\n",
    "\n",
    "vectorizer = CountVectorizer(max_features=200,stop_words='english')\n",
    "vectors=vectorizer.fit_transform(ytext.iloc[:,1])\n",
    "#vectorizer.get_feature_names()\n",
    "vectors.shape\n"
   ]
  },
  {
   "cell_type": "code",
   "execution_count": 92,
   "metadata": {
    "scrolled": true
   },
   "outputs": [
    {
     "name": "stdout",
     "output_type": "stream",
     "text": [
      "(2785, 200)\n",
      "(2786, 200)\n",
      "(2785,)\n",
      "(2786,)\n"
     ]
    }
   ],
   "source": [
    "X_train, X_test = train_test_split(vectors, train_size=0.5, random_state=1)\n",
    "Y_train, Y_test = train_test_split(ytext.iloc[:,0], train_size=0.5, random_state=1)\n",
    "\n",
    "Y_train=Y_train.astype('int')\n",
    "Y_test=Y_test.astype('int')\n",
    "\n",
    "\n",
    "print (X_train.shape)\n",
    "print (X_test.shape)\n",
    "print (Y_train.shape)\n",
    "print (Y_test.shape)"
   ]
  },
  {
   "cell_type": "code",
   "execution_count": 94,
   "metadata": {},
   "outputs": [
    {
     "name": "stdout",
     "output_type": "stream",
     "text": [
      "-----------** Algo used : GB **------------\n",
      "Accuracy Moyenne : 0.8270465852555405;  STD : 0.11108319629967486\n",
      "Precision Moyenne : 0.8624335154764438;  STD : 0.16238777350848008\n",
      "AUC Moyenne : 0.8223785854820338;  STD : 0.10577438797223039\n",
      "-----------** Algo used : DT **------------\n",
      "Accuracy Moyenne : 0.8194482134780643;  STD : 0.148326106028259\n",
      "Precision Moyenne : 0.8594552337063858;  STD : 0.18878203545200958\n",
      "AUC Moyenne : 0.8183972765869317;  STD : 0.13545316043626013\n",
      "-----------** Algo used : RF **------------\n",
      "Accuracy Moyenne : 0.8586386250565354;  STD : 0.15028682691754733\n",
      "Precision Moyenne : 0.8763690476190475;  STD : 0.18412053667043643\n",
      "AUC Moyenne : 0.8603160919540229;  STD : 0.1386591689733057\n",
      "-----------** Algo used : MLPC **------------\n",
      "Accuracy Moyenne : 0.7711442786069653;  STD : 0.0877840667757485\n",
      "Precision Moyenne : 0.7986703529289342;  STD : 0.1282363011354066\n",
      "AUC Moyenne : 0.7627443823133478;  STD : 0.08785766914997523\n",
      "-----------** Algo used : KNN **------------\n",
      "Accuracy Moyenne : 0.6750791497060153;  STD : 0.05210370966801213\n",
      "Precision Moyenne : 0.670528622318096;  STD : 0.08633655431127556\n",
      "AUC Moyenne : 0.6656000828414621;  STD : 0.05011262662480588\n",
      "-----------** Algo used : AdaBoost **------------\n",
      "Accuracy Moyenne : 0.8316372682044324;  STD : 0.12506689139845142\n",
      "Precision Moyenne : 0.8606111608697816;  STD : 0.1677897579601364\n",
      "AUC Moyenne : 0.8303815884850367;  STD : 0.11184750577676424\n",
      "-----------** Algo used : Bagging **------------\n",
      "Accuracy Moyenne : 0.8466530981456355;  STD : 0.153863061651203\n",
      "Precision Moyenne : 0.8704998147144455;  STD : 0.18653697551613108\n",
      "AUC Moyenne : 0.848464326395361;  STD : 0.1401844385593455\n"
     ]
    }
   ],
   "source": [
    "run_classifiers(clfs, X, Y)"
   ]
  },
  {
   "cell_type": "markdown",
   "metadata": {},
   "source": [
    "#### TfidfVectorizer"
   ]
  },
  {
   "cell_type": "code",
   "execution_count": 95,
   "metadata": {},
   "outputs": [
    {
     "data": {
      "text/plain": [
       "(5571, 200)"
      ]
     },
     "execution_count": 95,
     "metadata": {},
     "output_type": "execute_result"
    }
   ],
   "source": [
    "from sklearn.feature_extraction.text import TfidfVectorizer\n",
    "\n",
    "vectorizert = TfidfVectorizer(max_features=200,stop_words='english')\n",
    "vectorst=vectorizert.fit_transform(ytext.iloc[:,1])\n",
    "#vectorizer.get_feature_names()\n",
    "vectorst.shape"
   ]
  },
  {
   "cell_type": "code",
   "execution_count": 96,
   "metadata": {},
   "outputs": [
    {
     "name": "stdout",
     "output_type": "stream",
     "text": [
      "-----------** Algo used : GB **------------\n",
      "Accuracy Moyenne : 0.8270465852555405;  STD : 0.11108319629967486\n",
      "Precision Moyenne : 0.8624335154764438;  STD : 0.16238777350848008\n",
      "AUC Moyenne : 0.8223785854820338;  STD : 0.10577438797223039\n",
      "-----------** Algo used : DT **------------\n",
      "Accuracy Moyenne : 0.8194482134780643;  STD : 0.148326106028259\n",
      "Precision Moyenne : 0.8594552337063858;  STD : 0.18878203545200958\n",
      "AUC Moyenne : 0.8183972765869317;  STD : 0.13545316043626013\n",
      "-----------** Algo used : RF **------------\n",
      "Accuracy Moyenne : 0.8586386250565354;  STD : 0.15028682691754733\n",
      "Precision Moyenne : 0.8763690476190475;  STD : 0.18412053667043643\n",
      "AUC Moyenne : 0.8603160919540229;  STD : 0.1386591689733057\n",
      "-----------** Algo used : MLPC **------------\n",
      "Accuracy Moyenne : 0.7426956128448665;  STD : 0.10640075873716504\n",
      "Precision Moyenne : 0.740776415724497;  STD : 0.14250684287618146\n",
      "AUC Moyenne : 0.7378393911152532;  STD : 0.10616474454975583\n",
      "-----------** Algo used : KNN **------------\n",
      "Accuracy Moyenne : 0.6750791497060153;  STD : 0.05210370966801213\n",
      "Precision Moyenne : 0.670528622318096;  STD : 0.08633655431127556\n",
      "AUC Moyenne : 0.6656000828414621;  STD : 0.05011262662480588\n",
      "-----------** Algo used : AdaBoost **------------\n",
      "Accuracy Moyenne : 0.8316372682044324;  STD : 0.12506689139845142\n",
      "Precision Moyenne : 0.8606111608697816;  STD : 0.1677897579601364\n",
      "AUC Moyenne : 0.8303815884850367;  STD : 0.11184750577676424\n",
      "-----------** Algo used : Bagging **------------\n",
      "Accuracy Moyenne : 0.8466530981456355;  STD : 0.153863061651203\n",
      "Precision Moyenne : 0.8704998147144455;  STD : 0.18653697551613108\n",
      "AUC Moyenne : 0.848464326395361;  STD : 0.1401844385593455\n"
     ]
    }
   ],
   "source": [
    "run_classifiers(clfs, X, Y)"
   ]
  },
  {
   "cell_type": "markdown",
   "metadata": {},
   "source": [
    "##### TruncatedSVD"
   ]
  },
  {
   "cell_type": "code",
   "execution_count": 98,
   "metadata": {},
   "outputs": [
    {
     "data": {
      "text/plain": [
       "(5571, 5)"
      ]
     },
     "execution_count": 98,
     "metadata": {},
     "output_type": "execute_result"
    }
   ],
   "source": [
    "from sklearn.decomposition import TruncatedSVD\n",
    "\n",
    "svd = TruncatedSVD(n_components=5, n_iter=7, random_state=42)\n",
    "vectorsSVD=svd.fit_transform(vectorst)\n",
    "#vectorizer.get_feature_names()\n",
    "vectorsSVD.shape"
   ]
  },
  {
   "cell_type": "code",
   "execution_count": 99,
   "metadata": {},
   "outputs": [
    {
     "name": "stdout",
     "output_type": "stream",
     "text": [
      "-----------** Algo used : GB **------------\n",
      "Accuracy Moyenne : 0.8270465852555405;  STD : 0.11108319629967486\n",
      "Precision Moyenne : 0.8624335154764438;  STD : 0.16238777350848008\n",
      "AUC Moyenne : 0.8223785854820338;  STD : 0.10577438797223039\n",
      "-----------** Algo used : DT **------------\n",
      "Accuracy Moyenne : 0.8194482134780643;  STD : 0.148326106028259\n",
      "Precision Moyenne : 0.8594552337063858;  STD : 0.18878203545200958\n",
      "AUC Moyenne : 0.8183972765869317;  STD : 0.13545316043626013\n",
      "-----------** Algo used : RF **------------\n",
      "Accuracy Moyenne : 0.8586386250565354;  STD : 0.15028682691754733\n",
      "Precision Moyenne : 0.8763690476190475;  STD : 0.18412053667043643\n",
      "AUC Moyenne : 0.8603160919540229;  STD : 0.1386591689733057\n",
      "-----------** Algo used : MLPC **------------\n",
      "Accuracy Moyenne : 0.7893713251922208;  STD : 0.06794347995741284\n",
      "Precision Moyenne : 0.8253574165298303;  STD : 0.059677876425471045\n",
      "AUC Moyenne : 0.77887516827172;  STD : 0.07528041008906247\n",
      "-----------** Algo used : KNN **------------\n",
      "Accuracy Moyenne : 0.6750791497060153;  STD : 0.05210370966801213\n",
      "Precision Moyenne : 0.670528622318096;  STD : 0.08633655431127556\n",
      "AUC Moyenne : 0.6656000828414621;  STD : 0.05011262662480588\n",
      "-----------** Algo used : AdaBoost **------------\n",
      "Accuracy Moyenne : 0.8316372682044324;  STD : 0.12506689139845142\n",
      "Precision Moyenne : 0.8606111608697816;  STD : 0.1677897579601364\n",
      "AUC Moyenne : 0.8303815884850367;  STD : 0.11184750577676424\n",
      "-----------** Algo used : Bagging **------------\n",
      "Accuracy Moyenne : 0.8466530981456355;  STD : 0.153863061651203\n",
      "Precision Moyenne : 0.8704998147144455;  STD : 0.18653697551613108\n",
      "AUC Moyenne : 0.848464326395361;  STD : 0.1401844385593455\n"
     ]
    }
   ],
   "source": [
    "run_classifiers(clfs, X, Y)"
   ]
  },
  {
   "cell_type": "code",
   "execution_count": null,
   "metadata": {},
   "outputs": [],
   "source": []
  }
 ],
 "metadata": {
  "kernelspec": {
   "display_name": "Python 3",
   "language": "python",
   "name": "python3"
  },
  "language_info": {
   "codemirror_mode": {
    "name": "ipython",
    "version": 3
   },
   "file_extension": ".py",
   "mimetype": "text/x-python",
   "name": "python",
   "nbconvert_exporter": "python",
   "pygments_lexer": "ipython3",
   "version": "3.8.8"
  }
 },
 "nbformat": 4,
 "nbformat_minor": 4
}
